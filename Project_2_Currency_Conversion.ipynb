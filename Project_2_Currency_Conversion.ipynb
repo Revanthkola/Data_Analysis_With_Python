{
  "nbformat": 4,
  "nbformat_minor": 0,
  "metadata": {
    "colab": {
      "provenance": [],
      "authorship_tag": "ABX9TyNJZCTgqAZOTE6qz1j0gflY",
      "include_colab_link": true
    },
    "kernelspec": {
      "name": "python3",
      "display_name": "Python 3"
    },
    "language_info": {
      "name": "python"
    }
  },
  "cells": [
    {
      "cell_type": "markdown",
      "metadata": {
        "id": "view-in-github",
        "colab_type": "text"
      },
      "source": [
        "<a href=\"https://colab.research.google.com/github/Revanthkola/Data_Analysis_With_Python/blob/main/Project_2_Currency_Conversion.ipynb\" target=\"_parent\"><img src=\"https://colab.research.google.com/assets/colab-badge.svg\" alt=\"Open In Colab\"/></a>"
      ]
    },
    {
      "cell_type": "code",
      "execution_count": 1,
      "metadata": {
        "colab": {
          "base_uri": "https://localhost:8080/"
        },
        "id": "QD9jo8pTOTWl",
        "outputId": "1d84fa67-66df-4368-e1af-dc2c8ec1efc9"
      },
      "outputs": [
        {
          "output_type": "stream",
          "name": "stdout",
          "text": [
            "Enter the currency to convert from : MYR\n",
            "Enter the currency to convert to: INR\n",
            "Enter the amount to convert: 1\n",
            "Converted Amount 17.302305\n"
          ]
        }
      ],
      "source": [
        "import requests\n",
        "\n",
        "url = \"https://currency-conversion-and-exchange-rates.p.rapidapi.com/convert\"\n",
        "\n",
        "from_currency = input(\"Enter the currency to convert from : \").upper()\n",
        "to_currency = input(\"Enter the currency to convert to: \").upper()\n",
        "amount = float(input(\"Enter the amount to convert: \"))\n",
        "querystring = {\"from\": from_currency, \"to\": to_currency, \"amount\": str(amount)}\n",
        "headers = {\n",
        "\t\"X-RapidAPI-Key\": \"24e6576dbdmsh6e6c22858530970p1df1a8jsn49f5f9bc353e\",\n",
        "\t\"X-RapidAPI-Host\": \"currency-conversion-and-exchange-rates.p.rapidapi.com\"\n",
        "}\n",
        "\n",
        "response = requests.get(url, headers=headers, params=querystring)\n",
        "\n",
        "res = response.json()\n",
        "print(\"Converted Amount\",res['result'])"
      ]
    },
    {
      "cell_type": "code",
      "source": [],
      "metadata": {
        "id": "Q-aArmiX-MLv"
      },
      "execution_count": null,
      "outputs": []
    }
  ]
}