{
 "cells": [
  {
   "cell_type": "code",
   "execution_count": 1,
   "id": "b5c4cddd",
   "metadata": {},
   "outputs": [
    {
     "name": "stdout",
     "output_type": "stream",
     "text": [
      "Defaulting to user installation because normal site-packages is not writeable\n",
      "Requirement already satisfied: selenium in c:\\users\\kolak\\appdata\\roaming\\python\\python311\\site-packages (4.17.2)\n",
      "Requirement already satisfied: urllib3[socks]<3,>=1.26 in c:\\programdata\\anaconda3\\lib\\site-packages (from selenium) (1.26.16)\n",
      "Requirement already satisfied: trio~=0.17 in c:\\users\\kolak\\appdata\\roaming\\python\\python311\\site-packages (from selenium) (0.24.0)\n",
      "Requirement already satisfied: trio-websocket~=0.9 in c:\\users\\kolak\\appdata\\roaming\\python\\python311\\site-packages (from selenium) (0.11.1)\n",
      "Requirement already satisfied: certifi>=2021.10.8 in c:\\programdata\\anaconda3\\lib\\site-packages (from selenium) (2024.2.2)\n",
      "Requirement already satisfied: typing_extensions>=4.9.0 in c:\\users\\kolak\\appdata\\roaming\\python\\python311\\site-packages (from selenium) (4.9.0)\n",
      "Requirement already satisfied: attrs>=20.1.0 in c:\\programdata\\anaconda3\\lib\\site-packages (from trio~=0.17->selenium) (22.1.0)\n",
      "Requirement already satisfied: sortedcontainers in c:\\programdata\\anaconda3\\lib\\site-packages (from trio~=0.17->selenium) (2.4.0)\n",
      "Requirement already satisfied: idna in c:\\programdata\\anaconda3\\lib\\site-packages (from trio~=0.17->selenium) (3.4)\n",
      "Requirement already satisfied: outcome in c:\\users\\kolak\\appdata\\roaming\\python\\python311\\site-packages (from trio~=0.17->selenium) (1.3.0.post0)\n",
      "Requirement already satisfied: sniffio>=1.3.0 in c:\\users\\kolak\\appdata\\roaming\\python\\python311\\site-packages (from trio~=0.17->selenium) (1.3.0)\n",
      "Requirement already satisfied: cffi>=1.14 in c:\\programdata\\anaconda3\\lib\\site-packages (from trio~=0.17->selenium) (1.15.1)\n",
      "Requirement already satisfied: wsproto>=0.14 in c:\\users\\kolak\\appdata\\roaming\\python\\python311\\site-packages (from trio-websocket~=0.9->selenium) (1.2.0)\n",
      "Requirement already satisfied: PySocks!=1.5.7,<2.0,>=1.5.6 in c:\\programdata\\anaconda3\\lib\\site-packages (from urllib3[socks]<3,>=1.26->selenium) (1.7.1)\n",
      "Requirement already satisfied: pycparser in c:\\programdata\\anaconda3\\lib\\site-packages (from cffi>=1.14->trio~=0.17->selenium) (2.21)\n",
      "Requirement already satisfied: h11<1,>=0.9.0 in c:\\users\\kolak\\appdata\\roaming\\python\\python311\\site-packages (from wsproto>=0.14->trio-websocket~=0.9->selenium) (0.14.0)\n",
      "Note: you may need to restart the kernel to use updated packages.\n"
     ]
    }
   ],
   "source": [
    "pip install selenium"
   ]
  },
  {
   "cell_type": "code",
   "execution_count": 2,
   "id": "14a66a10",
   "metadata": {},
   "outputs": [
    {
     "name": "stdout",
     "output_type": "stream",
     "text": [
      "Defaulting to user installation because normal site-packages is not writeableNote: you may need to restart the kernel to use updated packages.\n",
      "\n",
      "Requirement already satisfied: webdriver_manager in c:\\users\\kolak\\appdata\\roaming\\python\\python311\\site-packages (4.0.1)\n",
      "Requirement already satisfied: requests in c:\\programdata\\anaconda3\\lib\\site-packages (from webdriver_manager) (2.31.0)\n",
      "Requirement already satisfied: python-dotenv in c:\\programdata\\anaconda3\\lib\\site-packages (from webdriver_manager) (0.21.0)\n",
      "Requirement already satisfied: packaging in c:\\programdata\\anaconda3\\lib\\site-packages (from webdriver_manager) (23.1)\n",
      "Requirement already satisfied: charset-normalizer<4,>=2 in c:\\programdata\\anaconda3\\lib\\site-packages (from requests->webdriver_manager) (2.0.4)\n",
      "Requirement already satisfied: idna<4,>=2.5 in c:\\programdata\\anaconda3\\lib\\site-packages (from requests->webdriver_manager) (3.4)\n",
      "Requirement already satisfied: urllib3<3,>=1.21.1 in c:\\programdata\\anaconda3\\lib\\site-packages (from requests->webdriver_manager) (1.26.16)\n",
      "Requirement already satisfied: certifi>=2017.4.17 in c:\\programdata\\anaconda3\\lib\\site-packages (from requests->webdriver_manager) (2024.2.2)\n"
     ]
    }
   ],
   "source": [
    "pip install webdriver_manager"
   ]
  },
  {
   "cell_type": "code",
   "execution_count": 3,
   "id": "215afcd3",
   "metadata": {},
   "outputs": [],
   "source": [
    "import selenium"
   ]
  },
  {
   "cell_type": "code",
   "execution_count": 4,
   "id": "2089ce04",
   "metadata": {},
   "outputs": [],
   "source": [
    "import webdriver_manager\n",
    "import pandas as pd"
   ]
  },
  {
   "cell_type": "code",
   "execution_count": 5,
   "id": "a45a6f9a",
   "metadata": {},
   "outputs": [],
   "source": [
    "from selenium import webdriver\n",
    "from time import sleep\n",
    "from webdriver_manager.chrome import ChromeDriverManager\n",
    "from selenium.webdriver.common.by import By\n",
    "from selenium.webdriver.common.keys import Keys"
   ]
  },
  {
   "cell_type": "code",
   "execution_count": 6,
   "id": "68781b86",
   "metadata": {},
   "outputs": [],
   "source": [
    "#define options and set capabilities\n",
    "options=webdriver.ChromeOptions()\n",
    "options.add_argument('--some-options')"
   ]
  },
  {
   "cell_type": "code",
   "execution_count": 7,
   "id": "18256ec5",
   "metadata": {},
   "outputs": [],
   "source": [
    "#create webdriver instance with options\n",
    "driver =webdriver.Chrome(options=options)"
   ]
  },
  {
   "cell_type": "code",
   "execution_count": 8,
   "id": "70ed9738",
   "metadata": {},
   "outputs": [
    {
     "name": "stdout",
     "output_type": "stream",
     "text": [
      "chrome\n"
     ]
    }
   ],
   "source": [
    "#create browser capabilities\n",
    "browser_name=options.to_capabilities()[\"browserName\"]\n",
    "print(browser_name)"
   ]
  },
  {
   "cell_type": "code",
   "execution_count": 9,
   "id": "8cfdb9bc",
   "metadata": {},
   "outputs": [],
   "source": [
    "#navigate to website \n",
    "driver.get(\"https://www.amazon.in\")"
   ]
  },
  {
   "cell_type": "code",
   "execution_count": 10,
   "id": "0ceae312",
   "metadata": {},
   "outputs": [],
   "source": [
    "search=driver.find_element(By.ID,\"twotabsearchtextbox\")"
   ]
  },
  {
   "cell_type": "code",
   "execution_count": 11,
   "id": "02b19a49",
   "metadata": {},
   "outputs": [],
   "source": [
    "search.send_keys(\"Dell laptops\")"
   ]
  },
  {
   "cell_type": "code",
   "execution_count": 12,
   "id": "caed83e2",
   "metadata": {},
   "outputs": [],
   "source": [
    "search=driver.find_element(By.ID,\"nav-search-submit-button\").click()"
   ]
  },
  {
   "cell_type": "code",
   "execution_count": 13,
   "id": "38bfb942",
   "metadata": {},
   "outputs": [],
   "source": [
    "driver.find_element(By.XPATH,\"//span[text()='Dell']\").click()"
   ]
  },
  {
   "cell_type": "code",
   "execution_count": 14,
   "id": "a3d1353b",
   "metadata": {
    "scrolled": true
   },
   "outputs": [
    {
     "name": "stdout",
     "output_type": "stream",
     "text": [
      "['Dell 15 Laptop, Intel 12th Gen Core i3-1215U Proc/8GB DDR4/512GB SSD/Intel UHD Graphic/15.6\" (39.62cm) FHD Display/Spill-Resistant Keyboard/Win11+MSO\\'21/15 Month McAfee/Black/Thin & Light 1.69kg', 'Dell 14 Laptop, 12th Gen Intel Core i5-1235U Processor, 16GB, 512GB, 14.0\" (35.56cm) FHD Display, Windows 11 + MSO\\'21, Spill-Resistant Keyboard, 15 Month Mcafee, Black, Thin & Light- 1.48kg', 'Dell Inspiron 3520 Laptop, Intel Core i5-1235U Processor, 16GB,512GB,15.6\" (39.62cm) FHD Display, Backlit Keyboard, Win 11 + MSO\\'21,15 Month McAfee, Silver, Thin & Light-1.65kg', 'Dell 14 Laptop, 12th Gen Intel Core i5-1235U Processor, 16GB, 512GB, 14.0\" (35.56cm) FHD Display, Windows 11 + MSO\\'21, Spill-Resistant Keyboard, 15 Month Mcafee, Black, Thin & Light- 1.48kg', 'Dell 14 Laptop, 12th Gen Intel Core i3-1215U Processor/8GB/512GB SSD/Intel UHD Graphics/14.0\"(35.56cm) FHD/Windows 11 + MSO\\'21/15 Month McAfee/Spill-Resistant Keyboard/Grey/Thin & Light 1.48kg', 'Dell Inspiron 3530 Laptop, 13th Gen Intel Core i5-1335U Processor/16GB/1TB SSD/15.6\" (39.62cm) FHD Display/Backlit Keyboard/Platinum Silver/Win 11 + MSO\\'21/15 Month McAfee/Thin & Light- 1.66kg', 'Dell 15 Laptop, Intel Core i5-1135G7 Processor/ 8GB/ 1TB+256GB SSD/15.6\"(39.62cm) FHD Display/Mobile Connect/Windows 11 + MSO\\'21/15 Month McAfee/Spill-Resistant Keyboard/Black/Thin & Light 1.69kg', 'Dell 14 Laptop, AMD Ryzen R5-5500U/ 8GB DDR4, 2400 MHz/ 512GB/ 14.0\" (35.56cm) FHD Display with Comfort View/Windows 11 + MSO\\'21/15 Month McAfee/Spill-Resistant Keyboard/Carbon Black/ 1.48kg', 'Dell 15 Laptop, Intel Core i3-1115G4 Processor/8GB DDR4/512GB SSD/Intel UHD Graphics/15.6\" (39.6cm) FHD 120Hz Refresh, 250 nits/Mobile Connect/Win 11+MSO\\'21/15 Month McAfee/Black/Thin & Light-1.66kg', 'Dell G15 5520 Gaming Laptop, Intel i5-12500H/16GB DDR5/1TB SSD/15.6\" (39.62cm) FHD WVA AG 120Hz 250 nits/NVIDIA RTX 3050, 4 GB GDDR6/Win 11 + MSO\\'21/15 Months McAfee/Backlit KB/Dark Shadow Grey/2.81kg', 'Dell Inspiron 7430 2in1 Touch Laptop, 13th Gen Intel Core i3-1315U/8GB/1TB SSD/14.0\" (35.56cm) FHD+,16:10 Aspect Ratio/Backlit KB+FPR/Win 11+MSO\\'21/15 Months McAfee/Platinum Silver/Thin & Light-1.58kg', '(Renewed) DELL Latitude 5490 Core i5 8th Gen Laptop, 16 GB RAM, 512GB SSD, Intel HD Graphics, 14 inch (36.83 cms) HD Screen, Windows 11 (Upgraded), MS Office, Black, Slim', 'Dell Inspiron 5430 Laptop, 13th Gen Intel Core i7-1360P Processor/16GB/1TB SSD/14.0\" (35.56cm) FHD+ WVA 250 nits/Backlit KB + FPR/Win 11 + MSO\\'21/15 Month McAfee/Platinum Silver/Thin & Light- 1.59kg', 'Dell G15-5530 Gaming Laptop, Intel Core i5-13450HX Processor, 16GB DDR5, 1TB, NVIDIA RTX 3050,6GB GDDR6, 15.6\" (39.62cm) FHD 120Hz 250 nits, Backlit KB Orange,Win 11 + MSO\\'21, Dark Shadow Gray, 2.65kg', 'Dell G15-5530 Gaming Laptop, Intel Core i5-13450HX Processor, 16GB DDR5, 1TB, NVIDIA RTX 3050,6GB GDDR6, 15.6\" (39.62cm) FHD 120Hz 250 nits, Backlit KB Orange,Win 11 + MSO\\'21, Dark Shadow Gray, 2.65kg', 'Dell G15-5520 Gaming Laptop, Intel i5-12500H/8GB DDR5/512GB SSD/Win 11 + MSO\\'21/NVIDIA RTX 3050 (4GB GDDR6)/15.6\" (39.62cm) FHD WVA AG 120Hz 250 nits/Backlit KB Orange/Dark Shadow Grey/2.81kg', 'Dell 14, Intel 12th Gen i5-1235U Laptop/8GB/512GB SSD/14.0\" (35.56cm) FHD TÃœV Rheinland Certified Comfortview to Reduce Harmful Blue Light Emission/Windows 11 + MSO\\'21/Black/15 Month McAfee,1.48kg', 'Dell G15 5530 Gaming Laptop, Intel i7-13650HX/16GB/1TB SSD/NVIDIA RTX 3050, 6 GB GDDR6/15.6\" (39.62cm) FHD AG 120Hz 250 nits/Backlit KB RGB/Dark Shadow Grey/Win 11+MSO\\'21/15 Month McAfee/2.65kg', 'Dell 14 Laptop, Intel Core i5-1135G7 Processor/8GB/512GB/Intel UHD Graphic/14.0\" (35.6cm) FHD with Comfort View/Spill-Resistant Keyboard/Thin & Light 1.48kg/ Win 11+ MSO\\'21/15 Month McAfee/Titan Grey', 'Dell New 14\" Latitude 3420- i3 11th Gen || 8 GB || 512 GB SSD || 14\" Full HD 1920 x 1080 Pixels || Ubuntu-Dos || 1 Year Onsite with ADP Warranty', 'Dell Inspiron 3525 Laptop, AMD Ryzen R3-5300U/8GB/512GB SSD/15.6\" (39.62CMs) FHD WVA AG Narrow Border 120Hz 250 nits/Windows 11+MSO\\'21/15 Month McAfee/Carbon Black/1.68KGs', 'Dell Inspiron 3511 Laptop, Intel Core i3-1115G4 Processor/8GB/256GB SSD/15.6\" (39.62cm) 3-Sided Narrow Border, FHD Display/Windows 11 + MSO\\'21/McAfee 15 Months/Platinum Silver/Thin & Light-1.8kg', \"(Renewed) DELL LATITUDE 7490, Windows 10 Pro, Intel Core I5 8TH GEN/8GB/512GB SSD/WEBCAM/14'' (35 cm\", 'Dell Inspiron 3535 Laptop, AMD 7 Series Ryzen 5-7520U Processor/8GB/512GB/15.6\" (39.62cm) FHD WVA AG 120Hz 250 nits Display/Win 11 + MSO\\'21/15 Month McAfee/Platinum Silver/1.63kg', 'Dell 14 Laptop, 13th Gen Intel Core i3-1305U Processor/ 8GB/ 512GB SSD/14.0\" (35.56cm) FHD + Comfort view/Windows 11 + MSO\\'21/15 Month McAfee/Spill-resistant Keyboard/Carbon Black/Thin & Light- 1.46kg', 'Dell Inspiron 3520 Laptop, Intel Core i3-1215U Processor, 8GB & 256GB SSD, 15.6\" (39.62Cm) FHD WVA AG 120Hz 250 nits, Win 11 + MSO\\'21, Carbon Black, 15 Months McAfee, Thin & Light- 1.65KG', 'Dell Inspiron 3520 Laptop,12th Gen Intel Core i3-1215, Windows 11 + MSO\\'21, McAfee 15 Months, 8GB, 512GB SSD, 15.6\" (39.62Cms) 3 Sided Narrow Border Design with 120Hz FHD Display, Black, 1.65Kgs', 'Dell Inspiron 5330 Laptop, Intel Evo Platform Powered by Intel Core i7-1360P Processor/16GB LP DDR5/1TB SSD/13.3\" (33.78cm) QHD+ 300 nits/Win 11 + MSO\\'21/15 Month McAfee/Platinum Silver/1.24kg', 'Dell Inspiron 7430 2in1 Touch Laptop, 13th Gen Intel Core i3-1315U/8GB/1TB SSD/14.0\" (35.56cm) FHD+,16:10 Aspect Ratio/Backlit KB+FPR/Win 11+MSO\\'21/15 Months McAfee/Platinum Silver/Thin & Light-1.58kg', 'Dell Inspiron 5430 13th Gen Laptop, Intel Core i5-1335U Processor/16GB/ 512GB SSD/14.0\" (35.56cm) FHD+/Backlit KB + FPR/Win 11 + MSO\\'2/McAfee 15 Months/Silver/Thunderbolt 4.0 Port/Thin & Light-1.59kg']\n"
     ]
    }
   ],
   "source": [
    "names = driver.find_elements(By.XPATH,\".//span[@class='a-size-medium a-color-base a-text-normal']\")\n",
    "for i in names:\n",
    "    laptop_name=[i.text for i in names]\n",
    "print(laptop_name)"
   ]
  },
  {
   "cell_type": "code",
   "execution_count": 15,
   "id": "9c142e4c",
   "metadata": {},
   "outputs": [
    {
     "name": "stdout",
     "output_type": "stream",
     "text": [
      "['Dell 15 Laptop, Intel 12th Gen Core i3-1215U Proc/8GB DDR4/512GB SSD/Intel UHD Graphic/15.6\" (39.62cm) FHD Display/Spill-Resistant Keyboard/Win11+MSO\\'21/15 Month McAfee/Black/Thin & Light 1.69kg', 'Dell 14 Laptop, 12th Gen Intel Core i5-1235U Processor, 16GB, 512GB, 14.0\" (35.56cm) FHD Display, Windows 11 + MSO\\'21, Spill-Resistant Keyboard, 15 Month Mcafee, Black, Thin & Light- 1.48kg', 'Dell Inspiron 3520 Laptop, Intel Core i5-1235U Processor, 16GB,512GB,15.6\" (39.62cm) FHD Display, Backlit Keyboard, Win 11 + MSO\\'21,15 Month McAfee, Silver, Thin & Light-1.65kg', 'Dell 14 Laptop, 12th Gen Intel Core i5-1235U Processor, 16GB, 512GB, 14.0\" (35.56cm) FHD Display, Windows 11 + MSO\\'21, Spill-Resistant Keyboard, 15 Month Mcafee, Black, Thin & Light- 1.48kg', 'Dell 14 Laptop, 12th Gen Intel Core i3-1215U Processor/8GB/512GB SSD/Intel UHD Graphics/14.0\"(35.56cm) FHD/Windows 11 + MSO\\'21/15 Month McAfee/Spill-Resistant Keyboard/Grey/Thin & Light 1.48kg', 'Dell Inspiron 3530 Laptop, 13th Gen Intel Core i5-1335U Processor/16GB/1TB SSD/15.6\" (39.62cm) FHD Display/Backlit Keyboard/Platinum Silver/Win 11 + MSO\\'21/15 Month McAfee/Thin & Light- 1.66kg', 'Dell 15 Laptop, Intel Core i5-1135G7 Processor/ 8GB/ 1TB+256GB SSD/15.6\"(39.62cm) FHD Display/Mobile Connect/Windows 11 + MSO\\'21/15 Month McAfee/Spill-Resistant Keyboard/Black/Thin & Light 1.69kg', 'Dell 14 Laptop, AMD Ryzen R5-5500U/ 8GB DDR4, 2400 MHz/ 512GB/ 14.0\" (35.56cm) FHD Display with Comfort View/Windows 11 + MSO\\'21/15 Month McAfee/Spill-Resistant Keyboard/Carbon Black/ 1.48kg', 'Dell 15 Laptop, Intel Core i3-1115G4 Processor/8GB DDR4/512GB SSD/Intel UHD Graphics/15.6\" (39.6cm) FHD 120Hz Refresh, 250 nits/Mobile Connect/Win 11+MSO\\'21/15 Month McAfee/Black/Thin & Light-1.66kg', 'Dell G15 5520 Gaming Laptop, Intel i5-12500H/16GB DDR5/1TB SSD/15.6\" (39.62cm) FHD WVA AG 120Hz 250 nits/NVIDIA RTX 3050, 4 GB GDDR6/Win 11 + MSO\\'21/15 Months McAfee/Backlit KB/Dark Shadow Grey/2.81kg', 'Dell Inspiron 7430 2in1 Touch Laptop, 13th Gen Intel Core i3-1315U/8GB/1TB SSD/14.0\" (35.56cm) FHD+,16:10 Aspect Ratio/Backlit KB+FPR/Win 11+MSO\\'21/15 Months McAfee/Platinum Silver/Thin & Light-1.58kg', '(Renewed) DELL Latitude 5490 Core i5 8th Gen Laptop, 16 GB RAM, 512GB SSD, Intel HD Graphics, 14 inch (36.83 cms) HD Screen, Windows 11 (Upgraded), MS Office, Black, Slim', 'Dell Inspiron 5430 Laptop, 13th Gen Intel Core i7-1360P Processor/16GB/1TB SSD/14.0\" (35.56cm) FHD+ WVA 250 nits/Backlit KB + FPR/Win 11 + MSO\\'21/15 Month McAfee/Platinum Silver/Thin & Light- 1.59kg', 'Dell G15-5530 Gaming Laptop, Intel Core i5-13450HX Processor, 16GB DDR5, 1TB, NVIDIA RTX 3050,6GB GDDR6, 15.6\" (39.62cm) FHD 120Hz 250 nits, Backlit KB Orange,Win 11 + MSO\\'21, Dark Shadow Gray, 2.65kg', 'Dell G15-5530 Gaming Laptop, Intel Core i5-13450HX Processor, 16GB DDR5, 1TB, NVIDIA RTX 3050,6GB GDDR6, 15.6\" (39.62cm) FHD 120Hz 250 nits, Backlit KB Orange,Win 11 + MSO\\'21, Dark Shadow Gray, 2.65kg', 'Dell G15-5520 Gaming Laptop, Intel i5-12500H/8GB DDR5/512GB SSD/Win 11 + MSO\\'21/NVIDIA RTX 3050 (4GB GDDR6)/15.6\" (39.62cm) FHD WVA AG 120Hz 250 nits/Backlit KB Orange/Dark Shadow Grey/2.81kg', 'Dell 14, Intel 12th Gen i5-1235U Laptop/8GB/512GB SSD/14.0\" (35.56cm) FHD TÃœV Rheinland Certified Comfortview to Reduce Harmful Blue Light Emission/Windows 11 + MSO\\'21/Black/15 Month McAfee,1.48kg', 'Dell G15 5530 Gaming Laptop, Intel i7-13650HX/16GB/1TB SSD/NVIDIA RTX 3050, 6 GB GDDR6/15.6\" (39.62cm) FHD AG 120Hz 250 nits/Backlit KB RGB/Dark Shadow Grey/Win 11+MSO\\'21/15 Month McAfee/2.65kg', 'Dell 14 Laptop, Intel Core i5-1135G7 Processor/8GB/512GB/Intel UHD Graphic/14.0\" (35.6cm) FHD with Comfort View/Spill-Resistant Keyboard/Thin & Light 1.48kg/ Win 11+ MSO\\'21/15 Month McAfee/Titan Grey', 'Dell New 14\" Latitude 3420- i3 11th Gen || 8 GB || 512 GB SSD || 14\" Full HD 1920 x 1080 Pixels || Ubuntu-Dos || 1 Year Onsite with ADP Warranty', 'Dell Inspiron 3525 Laptop, AMD Ryzen R3-5300U/8GB/512GB SSD/15.6\" (39.62CMs) FHD WVA AG Narrow Border 120Hz 250 nits/Windows 11+MSO\\'21/15 Month McAfee/Carbon Black/1.68KGs', 'Dell Inspiron 3511 Laptop, Intel Core i3-1115G4 Processor/8GB/256GB SSD/15.6\" (39.62cm) 3-Sided Narrow Border, FHD Display/Windows 11 + MSO\\'21/McAfee 15 Months/Platinum Silver/Thin & Light-1.8kg', \"(Renewed) DELL LATITUDE 7490, Windows 10 Pro, Intel Core I5 8TH GEN/8GB/512GB SSD/WEBCAM/14'' (35 cm\", 'Dell Inspiron 3535 Laptop, AMD 7 Series Ryzen 5-7520U Processor/8GB/512GB/15.6\" (39.62cm) FHD WVA AG 120Hz 250 nits Display/Win 11 + MSO\\'21/15 Month McAfee/Platinum Silver/1.63kg', 'Dell 14 Laptop, 13th Gen Intel Core i3-1305U Processor/ 8GB/ 512GB SSD/14.0\" (35.56cm) FHD + Comfort view/Windows 11 + MSO\\'21/15 Month McAfee/Spill-resistant Keyboard/Carbon Black/Thin & Light- 1.46kg', 'Dell Inspiron 3520 Laptop, Intel Core i3-1215U Processor, 8GB & 256GB SSD, 15.6\" (39.62Cm) FHD WVA AG 120Hz 250 nits, Win 11 + MSO\\'21, Carbon Black, 15 Months McAfee, Thin & Light- 1.65KG', 'Dell Inspiron 3520 Laptop,12th Gen Intel Core i3-1215, Windows 11 + MSO\\'21, McAfee 15 Months, 8GB, 512GB SSD, 15.6\" (39.62Cms) 3 Sided Narrow Border Design with 120Hz FHD Display, Black, 1.65Kgs', 'Dell Inspiron 5330 Laptop, Intel Evo Platform Powered by Intel Core i7-1360P Processor/16GB LP DDR5/1TB SSD/13.3\" (33.78cm) QHD+ 300 nits/Win 11 + MSO\\'21/15 Month McAfee/Platinum Silver/1.24kg', 'Dell Inspiron 7430 2in1 Touch Laptop, 13th Gen Intel Core i3-1315U/8GB/1TB SSD/14.0\" (35.56cm) FHD+,16:10 Aspect Ratio/Backlit KB+FPR/Win 11+MSO\\'21/15 Months McAfee/Platinum Silver/Thin & Light-1.58kg', 'Dell Inspiron 5430 13th Gen Laptop, Intel Core i5-1335U Processor/16GB/ 512GB SSD/14.0\" (35.56cm) FHD+/Backlit KB + FPR/Win 11 + MSO\\'2/McAfee 15 Months/Silver/Thunderbolt 4.0 Port/Thin & Light-1.59kg']\n"
     ]
    }
   ],
   "source": [
    "names = driver.find_elements(By.XPATH,\".//span[@class='a-size-medium a-color-base a-text-normal']\")\n",
    "for i in names:\n",
    "    lnames=[i.text for i in names]\n",
    "print(lnames)"
   ]
  },
  {
   "cell_type": "code",
   "execution_count": 16,
   "id": "c2face07",
   "metadata": {},
   "outputs": [
    {
     "name": "stdout",
     "output_type": "stream",
     "text": [
      "30\n"
     ]
    }
   ],
   "source": [
    "print(len(names))\n"
   ]
  },
  {
   "cell_type": "code",
   "execution_count": 17,
   "id": "854d2f38",
   "metadata": {},
   "outputs": [
    {
     "name": "stdout",
     "output_type": "stream",
     "text": [
      "['44,990', '47,990', '43,990', '36,490', '49,990', '55,240', '49,990', '35,990', '67,490', '44,990', '35,990', '33,990', '77,990', '57,990', '23,619', '83,490', '81,490', '81,490', '68,890', '46,990', '1,05,490', '44,990', '30,675', '34,490', '37,990', '21,549', '38,990', '43,490', '34,170', '36,890', '57,990', '68,990']\n"
     ]
    }
   ],
   "source": [
    "price=driver.find_elements(By.XPATH,\".//span[@class='a-price-whole']\")\n",
    "for i in price:\n",
    "    laptop_price=[i.text for i in price]\n",
    "print(laptop_price)"
   ]
  },
  {
   "cell_type": "code",
   "execution_count": 18,
   "id": "6aa58c3a",
   "metadata": {},
   "outputs": [
    {
     "name": "stdout",
     "output_type": "stream",
     "text": [
      "32\n"
     ]
    }
   ],
   "source": [
    "print(len(price))\n"
   ]
  },
  {
   "cell_type": "code",
   "execution_count": null,
   "id": "f6690a99",
   "metadata": {},
   "outputs": [],
   "source": [
    "reviews=driver.find_elements(By.XPATH,\".//span[@class='a-size-base s-underline-text']\")\n",
    "for i in reviews:\n",
    "    laptop_reviews=[i.text for i in reviews]\n",
    "print(laptop_reviews)"
   ]
  },
  {
   "cell_type": "code",
   "execution_count": 134,
   "id": "79896ee1",
   "metadata": {},
   "outputs": [
    {
     "name": "stdout",
     "output_type": "stream",
     "text": [
      "29\n"
     ]
    }
   ],
   "source": [
    "print(len(reviews))"
   ]
  },
  {
   "cell_type": "code",
   "execution_count": 135,
   "id": "6d02ce05",
   "metadata": {},
   "outputs": [],
   "source": [
    "df=pd.DataFrame(columns=['laptop_name','laptop_price','laptop_reviews'])\n"
   ]
  },
  {
   "cell_type": "code",
   "execution_count": 136,
   "id": "4df66bae",
   "metadata": {
    "scrolled": true
   },
   "outputs": [
    {
     "name": "stdout",
     "output_type": "stream",
     "text": [
      "Empty DataFrame\n",
      "Columns: [laptop_name, laptop_price, laptop_reviews]\n",
      "Index: []\n"
     ]
    }
   ],
   "source": [
    "print(df)\n"
   ]
  },
  {
   "cell_type": "code",
   "execution_count": 137,
   "id": "f338f762",
   "metadata": {},
   "outputs": [
    {
     "ename": "ValueError",
     "evalue": "Length of values (32) does not match length of index (30)",
     "output_type": "error",
     "traceback": [
      "\u001b[1;31m---------------------------------------------------------------------------\u001b[0m",
      "\u001b[1;31mValueError\u001b[0m                                Traceback (most recent call last)",
      "Cell \u001b[1;32mIn[137], line 2\u001b[0m\n\u001b[0;32m      1\u001b[0m df[\u001b[38;5;124m'\u001b[39m\u001b[38;5;124mlaptop_name\u001b[39m\u001b[38;5;124m'\u001b[39m]\u001b[38;5;241m=\u001b[39mlaptop_name\n\u001b[1;32m----> 2\u001b[0m df[\u001b[38;5;124m'\u001b[39m\u001b[38;5;124mlaptop_price\u001b[39m\u001b[38;5;124m'\u001b[39m]\u001b[38;5;241m=\u001b[39mlaptop_price\n\u001b[0;32m      3\u001b[0m df[\u001b[38;5;124m'\u001b[39m\u001b[38;5;124mlaptop_reviews\u001b[39m\u001b[38;5;124m'\u001b[39m]\u001b[38;5;241m=\u001b[39mlaptop_reviews\n",
      "File \u001b[1;32mC:\\ProgramData\\anaconda3\\Lib\\site-packages\\pandas\\core\\frame.py:3950\u001b[0m, in \u001b[0;36mDataFrame.__setitem__\u001b[1;34m(self, key, value)\u001b[0m\n\u001b[0;32m   3947\u001b[0m     \u001b[38;5;28mself\u001b[39m\u001b[38;5;241m.\u001b[39m_setitem_array([key], value)\n\u001b[0;32m   3948\u001b[0m \u001b[38;5;28;01melse\u001b[39;00m:\n\u001b[0;32m   3949\u001b[0m     \u001b[38;5;66;03m# set column\u001b[39;00m\n\u001b[1;32m-> 3950\u001b[0m     \u001b[38;5;28mself\u001b[39m\u001b[38;5;241m.\u001b[39m_set_item(key, value)\n",
      "File \u001b[1;32mC:\\ProgramData\\anaconda3\\Lib\\site-packages\\pandas\\core\\frame.py:4143\u001b[0m, in \u001b[0;36mDataFrame._set_item\u001b[1;34m(self, key, value)\u001b[0m\n\u001b[0;32m   4133\u001b[0m \u001b[38;5;28;01mdef\u001b[39;00m \u001b[38;5;21m_set_item\u001b[39m(\u001b[38;5;28mself\u001b[39m, key, value) \u001b[38;5;241m-\u001b[39m\u001b[38;5;241m>\u001b[39m \u001b[38;5;28;01mNone\u001b[39;00m:\n\u001b[0;32m   4134\u001b[0m \u001b[38;5;250m    \u001b[39m\u001b[38;5;124;03m\"\"\"\u001b[39;00m\n\u001b[0;32m   4135\u001b[0m \u001b[38;5;124;03m    Add series to DataFrame in specified column.\u001b[39;00m\n\u001b[0;32m   4136\u001b[0m \n\u001b[1;32m   (...)\u001b[0m\n\u001b[0;32m   4141\u001b[0m \u001b[38;5;124;03m    ensure homogeneity.\u001b[39;00m\n\u001b[0;32m   4142\u001b[0m \u001b[38;5;124;03m    \"\"\"\u001b[39;00m\n\u001b[1;32m-> 4143\u001b[0m     value \u001b[38;5;241m=\u001b[39m \u001b[38;5;28mself\u001b[39m\u001b[38;5;241m.\u001b[39m_sanitize_column(value)\n\u001b[0;32m   4145\u001b[0m     \u001b[38;5;28;01mif\u001b[39;00m (\n\u001b[0;32m   4146\u001b[0m         key \u001b[38;5;129;01min\u001b[39;00m \u001b[38;5;28mself\u001b[39m\u001b[38;5;241m.\u001b[39mcolumns\n\u001b[0;32m   4147\u001b[0m         \u001b[38;5;129;01mand\u001b[39;00m value\u001b[38;5;241m.\u001b[39mndim \u001b[38;5;241m==\u001b[39m \u001b[38;5;241m1\u001b[39m\n\u001b[0;32m   4148\u001b[0m         \u001b[38;5;129;01mand\u001b[39;00m \u001b[38;5;129;01mnot\u001b[39;00m is_extension_array_dtype(value)\n\u001b[0;32m   4149\u001b[0m     ):\n\u001b[0;32m   4150\u001b[0m         \u001b[38;5;66;03m# broadcast across multiple columns if necessary\u001b[39;00m\n\u001b[0;32m   4151\u001b[0m         \u001b[38;5;28;01mif\u001b[39;00m \u001b[38;5;129;01mnot\u001b[39;00m \u001b[38;5;28mself\u001b[39m\u001b[38;5;241m.\u001b[39mcolumns\u001b[38;5;241m.\u001b[39mis_unique \u001b[38;5;129;01mor\u001b[39;00m \u001b[38;5;28misinstance\u001b[39m(\u001b[38;5;28mself\u001b[39m\u001b[38;5;241m.\u001b[39mcolumns, MultiIndex):\n",
      "File \u001b[1;32mC:\\ProgramData\\anaconda3\\Lib\\site-packages\\pandas\\core\\frame.py:4870\u001b[0m, in \u001b[0;36mDataFrame._sanitize_column\u001b[1;34m(self, value)\u001b[0m\n\u001b[0;32m   4867\u001b[0m     \u001b[38;5;28;01mreturn\u001b[39;00m _reindex_for_setitem(Series(value), \u001b[38;5;28mself\u001b[39m\u001b[38;5;241m.\u001b[39mindex)\n\u001b[0;32m   4869\u001b[0m \u001b[38;5;28;01mif\u001b[39;00m is_list_like(value):\n\u001b[1;32m-> 4870\u001b[0m     com\u001b[38;5;241m.\u001b[39mrequire_length_match(value, \u001b[38;5;28mself\u001b[39m\u001b[38;5;241m.\u001b[39mindex)\n\u001b[0;32m   4871\u001b[0m \u001b[38;5;28;01mreturn\u001b[39;00m sanitize_array(value, \u001b[38;5;28mself\u001b[39m\u001b[38;5;241m.\u001b[39mindex, copy\u001b[38;5;241m=\u001b[39m\u001b[38;5;28;01mTrue\u001b[39;00m, allow_2d\u001b[38;5;241m=\u001b[39m\u001b[38;5;28;01mTrue\u001b[39;00m)\n",
      "File \u001b[1;32mC:\\ProgramData\\anaconda3\\Lib\\site-packages\\pandas\\core\\common.py:576\u001b[0m, in \u001b[0;36mrequire_length_match\u001b[1;34m(data, index)\u001b[0m\n\u001b[0;32m    572\u001b[0m \u001b[38;5;250m\u001b[39m\u001b[38;5;124;03m\"\"\"\u001b[39;00m\n\u001b[0;32m    573\u001b[0m \u001b[38;5;124;03mCheck the length of data matches the length of the index.\u001b[39;00m\n\u001b[0;32m    574\u001b[0m \u001b[38;5;124;03m\"\"\"\u001b[39;00m\n\u001b[0;32m    575\u001b[0m \u001b[38;5;28;01mif\u001b[39;00m \u001b[38;5;28mlen\u001b[39m(data) \u001b[38;5;241m!=\u001b[39m \u001b[38;5;28mlen\u001b[39m(index):\n\u001b[1;32m--> 576\u001b[0m     \u001b[38;5;28;01mraise\u001b[39;00m \u001b[38;5;167;01mValueError\u001b[39;00m(\n\u001b[0;32m    577\u001b[0m         \u001b[38;5;124m\"\u001b[39m\u001b[38;5;124mLength of values \u001b[39m\u001b[38;5;124m\"\u001b[39m\n\u001b[0;32m    578\u001b[0m         \u001b[38;5;124mf\u001b[39m\u001b[38;5;124m\"\u001b[39m\u001b[38;5;124m(\u001b[39m\u001b[38;5;132;01m{\u001b[39;00m\u001b[38;5;28mlen\u001b[39m(data)\u001b[38;5;132;01m}\u001b[39;00m\u001b[38;5;124m) \u001b[39m\u001b[38;5;124m\"\u001b[39m\n\u001b[0;32m    579\u001b[0m         \u001b[38;5;124m\"\u001b[39m\u001b[38;5;124mdoes not match length of index \u001b[39m\u001b[38;5;124m\"\u001b[39m\n\u001b[0;32m    580\u001b[0m         \u001b[38;5;124mf\u001b[39m\u001b[38;5;124m\"\u001b[39m\u001b[38;5;124m(\u001b[39m\u001b[38;5;132;01m{\u001b[39;00m\u001b[38;5;28mlen\u001b[39m(index)\u001b[38;5;132;01m}\u001b[39;00m\u001b[38;5;124m)\u001b[39m\u001b[38;5;124m\"\u001b[39m\n\u001b[0;32m    581\u001b[0m     )\n",
      "\u001b[1;31mValueError\u001b[0m: Length of values (32) does not match length of index (30)"
     ]
    }
   ],
   "source": [
    "df['laptop_name']=laptop_name\n",
    "df['laptop_price']=laptop_price\n",
    "df['laptop_reviews']=laptop_reviews"
   ]
  },
  {
   "cell_type": "code",
   "execution_count": 138,
   "id": "49eada2c",
   "metadata": {},
   "outputs": [
    {
     "name": "stdout",
     "output_type": "stream",
     "text": [
      "                                          laptop_name laptop_price  \\\n",
      "0   Dell 15 Laptop, Intel 12th Gen Core i3-1215U P...          NaN   \n",
      "1   Dell 14 Laptop, 12th Gen Intel Core i5-1235U P...          NaN   \n",
      "2   Dell Inspiron 3520 Laptop, Intel Core i5-1235U...          NaN   \n",
      "3   Dell 14 Laptop, 12th Gen Intel Core i5-1235U P...          NaN   \n",
      "4   Dell 14 Laptop, 12th Gen Intel Core i3-1215U P...          NaN   \n",
      "5   Dell Inspiron 3530 Laptop, 13th Gen Intel Core...          NaN   \n",
      "6   Dell 15 Laptop, Intel Core i5-1135G7 Processor...          NaN   \n",
      "7   Dell 14 Laptop, AMD Ryzen R5-5500U/ 8GB DDR4, ...          NaN   \n",
      "8   Dell 15 Laptop, Intel Core i3-1115G4 Processor...          NaN   \n",
      "9   Dell G15 5520 Gaming Laptop, Intel i5-12500H/1...          NaN   \n",
      "10  Dell Inspiron 7430 2in1 Touch Laptop, 13th Gen...          NaN   \n",
      "11  (Renewed) DELL Latitude 5490 Core i5 8th Gen L...          NaN   \n",
      "12  Dell Inspiron 5430 Laptop, 13th Gen Intel Core...          NaN   \n",
      "13  Dell G15-5530 Gaming Laptop, Intel Core i5-134...          NaN   \n",
      "14  Dell G15-5530 Gaming Laptop, Intel Core i5-134...          NaN   \n",
      "15  Dell G15-5520 Gaming Laptop, Intel i5-12500H/8...          NaN   \n",
      "16  Dell 14, Intel 12th Gen i5-1235U Laptop/8GB/51...          NaN   \n",
      "17  Dell G15 5530 Gaming Laptop, Intel i7-13650HX/...          NaN   \n",
      "18  Dell 14 Laptop, Intel Core i5-1135G7 Processor...          NaN   \n",
      "19  Dell New 14\" Latitude 3420- i3 11th Gen || 8 G...          NaN   \n",
      "20  Dell Inspiron 3525 Laptop, AMD Ryzen R3-5300U/...          NaN   \n",
      "21  Dell Inspiron 3511 Laptop, Intel Core i3-1115G...          NaN   \n",
      "22  (Renewed) DELL LATITUDE 7490, Windows 10 Pro, ...          NaN   \n",
      "23  Dell Inspiron 3535 Laptop, AMD 7 Series Ryzen ...          NaN   \n",
      "24  Dell 14 Laptop, 13th Gen Intel Core i3-1305U P...          NaN   \n",
      "25  Dell Inspiron 3520 Laptop, Intel Core i3-1215U...          NaN   \n",
      "26  Dell Inspiron 3520 Laptop,12th Gen Intel Core ...          NaN   \n",
      "27  Dell Inspiron 5330 Laptop, Intel Evo Platform ...          NaN   \n",
      "28  Dell Inspiron 7430 2in1 Touch Laptop, 13th Gen...          NaN   \n",
      "29  Dell Inspiron 5430 13th Gen Laptop, Intel Core...          NaN   \n",
      "\n",
      "   laptop_reviews  \n",
      "0             NaN  \n",
      "1             NaN  \n",
      "2             NaN  \n",
      "3             NaN  \n",
      "4             NaN  \n",
      "5             NaN  \n",
      "6             NaN  \n",
      "7             NaN  \n",
      "8             NaN  \n",
      "9             NaN  \n",
      "10            NaN  \n",
      "11            NaN  \n",
      "12            NaN  \n",
      "13            NaN  \n",
      "14            NaN  \n",
      "15            NaN  \n",
      "16            NaN  \n",
      "17            NaN  \n",
      "18            NaN  \n",
      "19            NaN  \n",
      "20            NaN  \n",
      "21            NaN  \n",
      "22            NaN  \n",
      "23            NaN  \n",
      "24            NaN  \n",
      "25            NaN  \n",
      "26            NaN  \n",
      "27            NaN  \n",
      "28            NaN  \n",
      "29            NaN  \n"
     ]
    }
   ],
   "source": [
    "print(df)\n"
   ]
  },
  {
   "cell_type": "code",
   "execution_count": 139,
   "id": "78dd4636",
   "metadata": {},
   "outputs": [
    {
     "data": {
      "text/html": [
       "<div>\n",
       "<style scoped>\n",
       "    .dataframe tbody tr th:only-of-type {\n",
       "        vertical-align: middle;\n",
       "    }\n",
       "\n",
       "    .dataframe tbody tr th {\n",
       "        vertical-align: top;\n",
       "    }\n",
       "\n",
       "    .dataframe thead th {\n",
       "        text-align: right;\n",
       "    }\n",
       "</style>\n",
       "<table border=\"1\" class=\"dataframe\">\n",
       "  <thead>\n",
       "    <tr style=\"text-align: right;\">\n",
       "      <th></th>\n",
       "      <th>laptop_name</th>\n",
       "      <th>laptop_price</th>\n",
       "      <th>laptop_reviews</th>\n",
       "    </tr>\n",
       "  </thead>\n",
       "  <tbody>\n",
       "    <tr>\n",
       "      <th>0</th>\n",
       "      <td>Dell 15 Laptop, Intel 12th Gen Core i3-1215U P...</td>\n",
       "      <td>NaN</td>\n",
       "      <td>NaN</td>\n",
       "    </tr>\n",
       "    <tr>\n",
       "      <th>1</th>\n",
       "      <td>Dell 14 Laptop, 12th Gen Intel Core i5-1235U P...</td>\n",
       "      <td>NaN</td>\n",
       "      <td>NaN</td>\n",
       "    </tr>\n",
       "    <tr>\n",
       "      <th>2</th>\n",
       "      <td>Dell Inspiron 3520 Laptop, Intel Core i5-1235U...</td>\n",
       "      <td>NaN</td>\n",
       "      <td>NaN</td>\n",
       "    </tr>\n",
       "    <tr>\n",
       "      <th>3</th>\n",
       "      <td>Dell 14 Laptop, 12th Gen Intel Core i5-1235U P...</td>\n",
       "      <td>NaN</td>\n",
       "      <td>NaN</td>\n",
       "    </tr>\n",
       "    <tr>\n",
       "      <th>4</th>\n",
       "      <td>Dell 14 Laptop, 12th Gen Intel Core i3-1215U P...</td>\n",
       "      <td>NaN</td>\n",
       "      <td>NaN</td>\n",
       "    </tr>\n",
       "    <tr>\n",
       "      <th>5</th>\n",
       "      <td>Dell Inspiron 3530 Laptop, 13th Gen Intel Core...</td>\n",
       "      <td>NaN</td>\n",
       "      <td>NaN</td>\n",
       "    </tr>\n",
       "    <tr>\n",
       "      <th>6</th>\n",
       "      <td>Dell 15 Laptop, Intel Core i5-1135G7 Processor...</td>\n",
       "      <td>NaN</td>\n",
       "      <td>NaN</td>\n",
       "    </tr>\n",
       "    <tr>\n",
       "      <th>7</th>\n",
       "      <td>Dell 14 Laptop, AMD Ryzen R5-5500U/ 8GB DDR4, ...</td>\n",
       "      <td>NaN</td>\n",
       "      <td>NaN</td>\n",
       "    </tr>\n",
       "    <tr>\n",
       "      <th>8</th>\n",
       "      <td>Dell 15 Laptop, Intel Core i3-1115G4 Processor...</td>\n",
       "      <td>NaN</td>\n",
       "      <td>NaN</td>\n",
       "    </tr>\n",
       "    <tr>\n",
       "      <th>9</th>\n",
       "      <td>Dell G15 5520 Gaming Laptop, Intel i5-12500H/1...</td>\n",
       "      <td>NaN</td>\n",
       "      <td>NaN</td>\n",
       "    </tr>\n",
       "    <tr>\n",
       "      <th>10</th>\n",
       "      <td>Dell Inspiron 7430 2in1 Touch Laptop, 13th Gen...</td>\n",
       "      <td>NaN</td>\n",
       "      <td>NaN</td>\n",
       "    </tr>\n",
       "    <tr>\n",
       "      <th>11</th>\n",
       "      <td>(Renewed) DELL Latitude 5490 Core i5 8th Gen L...</td>\n",
       "      <td>NaN</td>\n",
       "      <td>NaN</td>\n",
       "    </tr>\n",
       "    <tr>\n",
       "      <th>12</th>\n",
       "      <td>Dell Inspiron 5430 Laptop, 13th Gen Intel Core...</td>\n",
       "      <td>NaN</td>\n",
       "      <td>NaN</td>\n",
       "    </tr>\n",
       "    <tr>\n",
       "      <th>13</th>\n",
       "      <td>Dell G15-5530 Gaming Laptop, Intel Core i5-134...</td>\n",
       "      <td>NaN</td>\n",
       "      <td>NaN</td>\n",
       "    </tr>\n",
       "    <tr>\n",
       "      <th>14</th>\n",
       "      <td>Dell G15-5530 Gaming Laptop, Intel Core i5-134...</td>\n",
       "      <td>NaN</td>\n",
       "      <td>NaN</td>\n",
       "    </tr>\n",
       "    <tr>\n",
       "      <th>15</th>\n",
       "      <td>Dell G15-5520 Gaming Laptop, Intel i5-12500H/8...</td>\n",
       "      <td>NaN</td>\n",
       "      <td>NaN</td>\n",
       "    </tr>\n",
       "    <tr>\n",
       "      <th>16</th>\n",
       "      <td>Dell 14, Intel 12th Gen i5-1235U Laptop/8GB/51...</td>\n",
       "      <td>NaN</td>\n",
       "      <td>NaN</td>\n",
       "    </tr>\n",
       "    <tr>\n",
       "      <th>17</th>\n",
       "      <td>Dell G15 5530 Gaming Laptop, Intel i7-13650HX/...</td>\n",
       "      <td>NaN</td>\n",
       "      <td>NaN</td>\n",
       "    </tr>\n",
       "    <tr>\n",
       "      <th>18</th>\n",
       "      <td>Dell 14 Laptop, Intel Core i5-1135G7 Processor...</td>\n",
       "      <td>NaN</td>\n",
       "      <td>NaN</td>\n",
       "    </tr>\n",
       "    <tr>\n",
       "      <th>19</th>\n",
       "      <td>Dell New 14\" Latitude 3420- i3 11th Gen || 8 G...</td>\n",
       "      <td>NaN</td>\n",
       "      <td>NaN</td>\n",
       "    </tr>\n",
       "    <tr>\n",
       "      <th>20</th>\n",
       "      <td>Dell Inspiron 3525 Laptop, AMD Ryzen R3-5300U/...</td>\n",
       "      <td>NaN</td>\n",
       "      <td>NaN</td>\n",
       "    </tr>\n",
       "    <tr>\n",
       "      <th>21</th>\n",
       "      <td>Dell Inspiron 3511 Laptop, Intel Core i3-1115G...</td>\n",
       "      <td>NaN</td>\n",
       "      <td>NaN</td>\n",
       "    </tr>\n",
       "    <tr>\n",
       "      <th>22</th>\n",
       "      <td>(Renewed) DELL LATITUDE 7490, Windows 10 Pro, ...</td>\n",
       "      <td>NaN</td>\n",
       "      <td>NaN</td>\n",
       "    </tr>\n",
       "    <tr>\n",
       "      <th>23</th>\n",
       "      <td>Dell Inspiron 3535 Laptop, AMD 7 Series Ryzen ...</td>\n",
       "      <td>NaN</td>\n",
       "      <td>NaN</td>\n",
       "    </tr>\n",
       "    <tr>\n",
       "      <th>24</th>\n",
       "      <td>Dell 14 Laptop, 13th Gen Intel Core i3-1305U P...</td>\n",
       "      <td>NaN</td>\n",
       "      <td>NaN</td>\n",
       "    </tr>\n",
       "    <tr>\n",
       "      <th>25</th>\n",
       "      <td>Dell Inspiron 3520 Laptop, Intel Core i3-1215U...</td>\n",
       "      <td>NaN</td>\n",
       "      <td>NaN</td>\n",
       "    </tr>\n",
       "    <tr>\n",
       "      <th>26</th>\n",
       "      <td>Dell Inspiron 3520 Laptop,12th Gen Intel Core ...</td>\n",
       "      <td>NaN</td>\n",
       "      <td>NaN</td>\n",
       "    </tr>\n",
       "    <tr>\n",
       "      <th>27</th>\n",
       "      <td>Dell Inspiron 5330 Laptop, Intel Evo Platform ...</td>\n",
       "      <td>NaN</td>\n",
       "      <td>NaN</td>\n",
       "    </tr>\n",
       "    <tr>\n",
       "      <th>28</th>\n",
       "      <td>Dell Inspiron 7430 2in1 Touch Laptop, 13th Gen...</td>\n",
       "      <td>NaN</td>\n",
       "      <td>NaN</td>\n",
       "    </tr>\n",
       "    <tr>\n",
       "      <th>29</th>\n",
       "      <td>Dell Inspiron 5430 13th Gen Laptop, Intel Core...</td>\n",
       "      <td>NaN</td>\n",
       "      <td>NaN</td>\n",
       "    </tr>\n",
       "  </tbody>\n",
       "</table>\n",
       "</div>"
      ],
      "text/plain": [
       "                                          laptop_name laptop_price  \\\n",
       "0   Dell 15 Laptop, Intel 12th Gen Core i3-1215U P...          NaN   \n",
       "1   Dell 14 Laptop, 12th Gen Intel Core i5-1235U P...          NaN   \n",
       "2   Dell Inspiron 3520 Laptop, Intel Core i5-1235U...          NaN   \n",
       "3   Dell 14 Laptop, 12th Gen Intel Core i5-1235U P...          NaN   \n",
       "4   Dell 14 Laptop, 12th Gen Intel Core i3-1215U P...          NaN   \n",
       "5   Dell Inspiron 3530 Laptop, 13th Gen Intel Core...          NaN   \n",
       "6   Dell 15 Laptop, Intel Core i5-1135G7 Processor...          NaN   \n",
       "7   Dell 14 Laptop, AMD Ryzen R5-5500U/ 8GB DDR4, ...          NaN   \n",
       "8   Dell 15 Laptop, Intel Core i3-1115G4 Processor...          NaN   \n",
       "9   Dell G15 5520 Gaming Laptop, Intel i5-12500H/1...          NaN   \n",
       "10  Dell Inspiron 7430 2in1 Touch Laptop, 13th Gen...          NaN   \n",
       "11  (Renewed) DELL Latitude 5490 Core i5 8th Gen L...          NaN   \n",
       "12  Dell Inspiron 5430 Laptop, 13th Gen Intel Core...          NaN   \n",
       "13  Dell G15-5530 Gaming Laptop, Intel Core i5-134...          NaN   \n",
       "14  Dell G15-5530 Gaming Laptop, Intel Core i5-134...          NaN   \n",
       "15  Dell G15-5520 Gaming Laptop, Intel i5-12500H/8...          NaN   \n",
       "16  Dell 14, Intel 12th Gen i5-1235U Laptop/8GB/51...          NaN   \n",
       "17  Dell G15 5530 Gaming Laptop, Intel i7-13650HX/...          NaN   \n",
       "18  Dell 14 Laptop, Intel Core i5-1135G7 Processor...          NaN   \n",
       "19  Dell New 14\" Latitude 3420- i3 11th Gen || 8 G...          NaN   \n",
       "20  Dell Inspiron 3525 Laptop, AMD Ryzen R3-5300U/...          NaN   \n",
       "21  Dell Inspiron 3511 Laptop, Intel Core i3-1115G...          NaN   \n",
       "22  (Renewed) DELL LATITUDE 7490, Windows 10 Pro, ...          NaN   \n",
       "23  Dell Inspiron 3535 Laptop, AMD 7 Series Ryzen ...          NaN   \n",
       "24  Dell 14 Laptop, 13th Gen Intel Core i3-1305U P...          NaN   \n",
       "25  Dell Inspiron 3520 Laptop, Intel Core i3-1215U...          NaN   \n",
       "26  Dell Inspiron 3520 Laptop,12th Gen Intel Core ...          NaN   \n",
       "27  Dell Inspiron 5330 Laptop, Intel Evo Platform ...          NaN   \n",
       "28  Dell Inspiron 7430 2in1 Touch Laptop, 13th Gen...          NaN   \n",
       "29  Dell Inspiron 5430 13th Gen Laptop, Intel Core...          NaN   \n",
       "\n",
       "   laptop_reviews  \n",
       "0             NaN  \n",
       "1             NaN  \n",
       "2             NaN  \n",
       "3             NaN  \n",
       "4             NaN  \n",
       "5             NaN  \n",
       "6             NaN  \n",
       "7             NaN  \n",
       "8             NaN  \n",
       "9             NaN  \n",
       "10            NaN  \n",
       "11            NaN  \n",
       "12            NaN  \n",
       "13            NaN  \n",
       "14            NaN  \n",
       "15            NaN  \n",
       "16            NaN  \n",
       "17            NaN  \n",
       "18            NaN  \n",
       "19            NaN  \n",
       "20            NaN  \n",
       "21            NaN  \n",
       "22            NaN  \n",
       "23            NaN  \n",
       "24            NaN  \n",
       "25            NaN  \n",
       "26            NaN  \n",
       "27            NaN  \n",
       "28            NaN  \n",
       "29            NaN  "
      ]
     },
     "execution_count": 139,
     "metadata": {},
     "output_type": "execute_result"
    }
   ],
   "source": [
    "df"
   ]
  },
  {
   "cell_type": "code",
   "execution_count": 289,
   "id": "b1f494c9",
   "metadata": {},
   "outputs": [],
   "source": [
    "df.to_csv(\"Dell_data.csv\")"
   ]
  },
  {
   "cell_type": "code",
   "execution_count": null,
   "id": "685d1e75",
   "metadata": {},
   "outputs": [],
   "source": []
  }
 ],
 "metadata": {
  "kernelspec": {
   "display_name": "Python 3 (ipykernel)",
   "language": "python",
   "name": "python3"
  },
  "language_info": {
   "codemirror_mode": {
    "name": "ipython",
    "version": 3
   },
   "file_extension": ".py",
   "mimetype": "text/x-python",
   "name": "python",
   "nbconvert_exporter": "python",
   "pygments_lexer": "ipython3",
   "version": "3.11.5"
  }
 },
 "nbformat": 4,
 "nbformat_minor": 5
}
