{
  "nbformat": 4,
  "nbformat_minor": 0,
  "metadata": {
    "colab": {
      "provenance": [],
      "authorship_tag": "ABX9TyN0qUbvROo/oZ60+jCy+5g+",
      "include_colab_link": true
    },
    "kernelspec": {
      "name": "python3",
      "display_name": "Python 3"
    },
    "language_info": {
      "name": "python"
    }
  },
  "cells": [
    {
      "cell_type": "markdown",
      "metadata": {
        "id": "view-in-github",
        "colab_type": "text"
      },
      "source": [
        "<a href=\"https://colab.research.google.com/github/Revanthkola/Data_Analysis_With_Python/blob/main/DA_DAY2_NUMPY.ipynb\" target=\"_parent\"><img src=\"https://colab.research.google.com/assets/colab-badge.svg\" alt=\"Open In Colab\"/></a>"
      ]
    },
    {
      "cell_type": "code",
      "execution_count": null,
      "metadata": {
        "id": "hAzXGmpXq1mp"
      },
      "outputs": [],
      "source": [
        "import numpy as np\n",
        "#random module is sub-package of numpy"
      ]
    },
    {
      "cell_type": "code",
      "source": [
        "A=np.random.rand(1) #rand-Range is between 0 and 1\n",
        "print(A)"
      ],
      "metadata": {
        "colab": {
          "base_uri": "https://localhost:8080/"
        },
        "id": "zuTOR6nGuDYY",
        "outputId": "7a0343fe-f172-4a52-ee63-e08ceee8d871"
      },
      "execution_count": null,
      "outputs": [
        {
          "output_type": "stream",
          "name": "stdout",
          "text": [
            "[0.04946641]\n"
          ]
        }
      ]
    },
    {
      "cell_type": "code",
      "source": [
        "A=np.random.rand(8,4) #rand-Range is between 0 and 1\n",
        "print(A)"
      ],
      "metadata": {
        "colab": {
          "base_uri": "https://localhost:8080/"
        },
        "id": "1_3p1WNrsnjh",
        "outputId": "acde44a4-9ad4-451e-e4d8-7590bf47afe6"
      },
      "execution_count": null,
      "outputs": [
        {
          "output_type": "stream",
          "name": "stdout",
          "text": [
            "[[0.23653812 0.25380158 0.0652003  0.95783538]\n",
            " [0.6418892  0.136348   0.45008937 0.51369056]\n",
            " [0.1276418  0.85382615 0.29417437 0.54740744]\n",
            " [0.12154945 0.42957969 0.84151869 0.22926916]\n",
            " [0.76719405 0.31907931 0.67145761 0.91705862]\n",
            " [0.24672913 0.42804632 0.5589726  0.46127664]\n",
            " [0.40835302 0.59253039 0.38945717 0.3576614 ]\n",
            " [0.56108786 0.17161901 0.62122744 0.65926816]]\n"
          ]
        }
      ]
    },
    {
      "cell_type": "code",
      "source": [
        "A=np.floor(10*np.random.rand(8,4))\n",
        "print(A)"
      ],
      "metadata": {
        "colab": {
          "base_uri": "https://localhost:8080/"
        },
        "id": "gCJxEBz5ti-R",
        "outputId": "8e9eea88-be0c-417a-81c4-2db0823ca3c4"
      },
      "execution_count": null,
      "outputs": [
        {
          "output_type": "stream",
          "name": "stdout",
          "text": [
            "[[6. 9. 1. 9.]\n",
            " [2. 3. 1. 8.]\n",
            " [3. 0. 7. 5.]\n",
            " [8. 6. 3. 5.]\n",
            " [1. 7. 4. 1.]\n",
            " [7. 4. 4. 0.]\n",
            " [1. 9. 4. 9.]\n",
            " [8. 6. 8. 7.]]\n"
          ]
        }
      ]
    },
    {
      "cell_type": "code",
      "source": [
        "A=np.arange(32).reshape(8,4)\n",
        "print(A)"
      ],
      "metadata": {
        "colab": {
          "base_uri": "https://localhost:8080/"
        },
        "id": "w2bdUFzhwClP",
        "outputId": "d8319443-5679-457c-b95f-b72a4dc74d69"
      },
      "execution_count": null,
      "outputs": [
        {
          "output_type": "stream",
          "name": "stdout",
          "text": [
            "[[ 0  1  2  3]\n",
            " [ 4  5  6  7]\n",
            " [ 8  9 10 11]\n",
            " [12 13 14 15]\n",
            " [16 17 18 19]\n",
            " [20 21 22 23]\n",
            " [24 25 26 27]\n",
            " [28 29 30 31]]\n"
          ]
        }
      ]
    },
    {
      "cell_type": "code",
      "source": [
        "print(np.vsplit(A,4))"
      ],
      "metadata": {
        "colab": {
          "base_uri": "https://localhost:8080/"
        },
        "id": "okpjvY2Owvd6",
        "outputId": "28d4379e-40ac-47bf-e9c8-e5e442873d0b"
      },
      "execution_count": null,
      "outputs": [
        {
          "output_type": "stream",
          "name": "stdout",
          "text": [
            "[array([[0, 1, 2, 3],\n",
            "       [4, 5, 6, 7]]), array([[ 8,  9, 10, 11],\n",
            "       [12, 13, 14, 15]]), array([[16, 17, 18, 19],\n",
            "       [20, 21, 22, 23]]), array([[24, 25, 26, 27],\n",
            "       [28, 29, 30, 31]])]\n"
          ]
        }
      ]
    },
    {
      "cell_type": "code",
      "source": [
        "np.vsplit(A,4) #split it verticle in 4"
      ],
      "metadata": {
        "colab": {
          "base_uri": "https://localhost:8080/"
        },
        "id": "hvwYdoZ8w-Tl",
        "outputId": "bbd577c3-1bd9-43dd-edf6-6ed1e86c9cba"
      },
      "execution_count": null,
      "outputs": [
        {
          "output_type": "execute_result",
          "data": {
            "text/plain": [
              "[array([[0, 1, 2, 3],\n",
              "        [4, 5, 6, 7]]),\n",
              " array([[ 8,  9, 10, 11],\n",
              "        [12, 13, 14, 15]]),\n",
              " array([[16, 17, 18, 19],\n",
              "        [20, 21, 22, 23]]),\n",
              " array([[24, 25, 26, 27],\n",
              "        [28, 29, 30, 31]])]"
            ]
          },
          "metadata": {},
          "execution_count": 13
        }
      ]
    },
    {
      "cell_type": "code",
      "source": [
        "\n",
        "np.vsplit(A,(3,7)) #split it after 3rd row and 7th row"
      ],
      "metadata": {
        "colab": {
          "base_uri": "https://localhost:8080/"
        },
        "id": "iVgiTSyhxXpm",
        "outputId": "a908b3f7-4def-4765-e0fc-7bdd6d68e3be"
      },
      "execution_count": null,
      "outputs": [
        {
          "output_type": "execute_result",
          "data": {
            "text/plain": [
              "[array([[ 0,  1,  2,  3],\n",
              "        [ 4,  5,  6,  7],\n",
              "        [ 8,  9, 10, 11]]),\n",
              " array([[12, 13, 14, 15],\n",
              "        [16, 17, 18, 19],\n",
              "        [20, 21, 22, 23],\n",
              "        [24, 25, 26, 27]]),\n",
              " array([[28, 29, 30, 31]])]"
            ]
          },
          "metadata": {},
          "execution_count": 14
        }
      ]
    },
    {
      "cell_type": "code",
      "source": [
        "B=np.arange(32).reshape(4,8)\n",
        "print(A)# create an array with 4 row and 8 columns"
      ],
      "metadata": {
        "colab": {
          "base_uri": "https://localhost:8080/"
        },
        "id": "INiD9LNwyFb9",
        "outputId": "48d7ca11-87e3-4c36-9e54-d80f9fa62544"
      },
      "execution_count": null,
      "outputs": [
        {
          "output_type": "stream",
          "name": "stdout",
          "text": [
            "[[ 0  1  2  3]\n",
            " [ 4  5  6  7]\n",
            " [ 8  9 10 11]\n",
            " [12 13 14 15]\n",
            " [16 17 18 19]\n",
            " [20 21 22 23]\n",
            " [24 25 26 27]\n",
            " [28 29 30 31]]\n"
          ]
        }
      ]
    },
    {
      "cell_type": "code",
      "source": [
        "np.hsplit(B,4) #it split in horizontally"
      ],
      "metadata": {
        "colab": {
          "base_uri": "https://localhost:8080/"
        },
        "id": "qS0jEXQdz1NY",
        "outputId": "e3961f74-302f-42f2-aaf9-a67e1553e611"
      },
      "execution_count": null,
      "outputs": [
        {
          "output_type": "execute_result",
          "data": {
            "text/plain": [
              "[array([[ 0,  1],\n",
              "        [ 8,  9],\n",
              "        [16, 17],\n",
              "        [24, 25]]),\n",
              " array([[ 2,  3],\n",
              "        [10, 11],\n",
              "        [18, 19],\n",
              "        [26, 27]]),\n",
              " array([[ 4,  5],\n",
              "        [12, 13],\n",
              "        [20, 21],\n",
              "        [28, 29]]),\n",
              " array([[ 6,  7],\n",
              "        [14, 15],\n",
              "        [22, 23],\n",
              "        [30, 31]])]"
            ]
          },
          "metadata": {},
          "execution_count": 16
        }
      ]
    },
    {
      "cell_type": "code",
      "source": [
        "np.hsplit(B,(3,5))"
      ],
      "metadata": {
        "colab": {
          "base_uri": "https://localhost:8080/"
        },
        "id": "N4IhS-bp0UQq",
        "outputId": "542181ac-dd32-486d-d36f-f4ce50e70485"
      },
      "execution_count": null,
      "outputs": [
        {
          "output_type": "execute_result",
          "data": {
            "text/plain": [
              "[array([[ 0,  1,  2],\n",
              "        [ 8,  9, 10],\n",
              "        [16, 17, 18],\n",
              "        [24, 25, 26]]),\n",
              " array([[ 3,  4],\n",
              "        [11, 12],\n",
              "        [19, 20],\n",
              "        [27, 28]]),\n",
              " array([[ 5,  6,  7],\n",
              "        [13, 14, 15],\n",
              "        [21, 22, 23],\n",
              "        [29, 30, 31]])]"
            ]
          },
          "metadata": {},
          "execution_count": 19
        }
      ]
    },
    {
      "cell_type": "code",
      "source": [
        "np.hsplit(B,(2,4))"
      ],
      "metadata": {
        "colab": {
          "base_uri": "https://localhost:8080/"
        },
        "id": "LmrUbghk057k",
        "outputId": "ec137312-2009-4303-8b71-66ba57fe264f"
      },
      "execution_count": null,
      "outputs": [
        {
          "output_type": "execute_result",
          "data": {
            "text/plain": [
              "[array([[ 0,  1],\n",
              "        [ 8,  9],\n",
              "        [16, 17],\n",
              "        [24, 25]]),\n",
              " array([[ 2,  3],\n",
              "        [10, 11],\n",
              "        [18, 19],\n",
              "        [26, 27]]),\n",
              " array([[ 4,  5,  6,  7],\n",
              "        [12, 13, 14, 15],\n",
              "        [20, 21, 22, 23],\n",
              "        [28, 29, 30, 31]])]"
            ]
          },
          "metadata": {},
          "execution_count": 20
        }
      ]
    },
    {
      "cell_type": "markdown",
      "source": [
        "**Trigonomerty**"
      ],
      "metadata": {
        "id": "QK4dIPSR3dfJ"
      }
    },
    {
      "cell_type": "code",
      "source": [
        "np.pi"
      ],
      "metadata": {
        "colab": {
          "base_uri": "https://localhost:8080/"
        },
        "id": "osrBpAJv3my1",
        "outputId": "49fdbb50-bdb2-487c-9f30-3a0c8f56d1e8"
      },
      "execution_count": null,
      "outputs": [
        {
          "output_type": "execute_result",
          "data": {
            "text/plain": [
              "3.141592653589793"
            ]
          },
          "metadata": {},
          "execution_count": 21
        }
      ]
    },
    {
      "cell_type": "code",
      "source": [
        "t=[np.pi/4,np.pi/3,np.pi/2,np.pi]\n",
        "print(t)"
      ],
      "metadata": {
        "colab": {
          "base_uri": "https://localhost:8080/"
        },
        "id": "g8z3_K_w3uYg",
        "outputId": "b91d25b0-a874-43ad-87fa-3a2b7c85eaf5"
      },
      "execution_count": null,
      "outputs": [
        {
          "output_type": "stream",
          "name": "stdout",
          "text": [
            "[0.7853981633974483, 1.0471975511965976, 1.5707963267948966, 3.141592653589793]\n"
          ]
        }
      ]
    },
    {
      "cell_type": "code",
      "source": [
        "np.rad2deg(t) #convert radians into degree"
      ],
      "metadata": {
        "colab": {
          "base_uri": "https://localhost:8080/"
        },
        "id": "I1oPmvK04FMI",
        "outputId": "959531f9-17f3-4112-b344-7003d52eb483"
      },
      "execution_count": null,
      "outputs": [
        {
          "output_type": "execute_result",
          "data": {
            "text/plain": [
              "array([ 45.,  60.,  90., 180.])"
            ]
          },
          "metadata": {},
          "execution_count": 23
        }
      ]
    },
    {
      "cell_type": "code",
      "source": [
        "np.deg2rad(t) #convert degree into radians"
      ],
      "metadata": {
        "colab": {
          "base_uri": "https://localhost:8080/"
        },
        "id": "JloDJGk74Tp-",
        "outputId": "d2e27db8-8b8c-4cc4-eb5b-e206fa594c12"
      },
      "execution_count": null,
      "outputs": [
        {
          "output_type": "execute_result",
          "data": {
            "text/plain": [
              "array([0.01370778, 0.01827705, 0.02741557, 0.05483114])"
            ]
          },
          "metadata": {},
          "execution_count": 24
        }
      ]
    },
    {
      "cell_type": "code",
      "source": [
        "np.rad2deg(3.14)"
      ],
      "metadata": {
        "colab": {
          "base_uri": "https://localhost:8080/"
        },
        "id": "cSMWscKs4jVY",
        "outputId": "6ae371b0-9a73-472a-b935-c3bae4435f05"
      },
      "execution_count": null,
      "outputs": [
        {
          "output_type": "execute_result",
          "data": {
            "text/plain": [
              "179.9087476710785"
            ]
          },
          "metadata": {},
          "execution_count": 25
        }
      ]
    },
    {
      "cell_type": "code",
      "source": [
        "np.deg2rad(180)"
      ],
      "metadata": {
        "colab": {
          "base_uri": "https://localhost:8080/"
        },
        "id": "9Qv9iAX45XBA",
        "outputId": "2fcdf107-83fd-4b0e-aff5-87db71cde063"
      },
      "execution_count": null,
      "outputs": [
        {
          "output_type": "execute_result",
          "data": {
            "text/plain": [
              "3.141592653589793"
            ]
          },
          "metadata": {},
          "execution_count": 26
        }
      ]
    },
    {
      "cell_type": "code",
      "source": [
        "np.sin(0.785)#radians"
      ],
      "metadata": {
        "colab": {
          "base_uri": "https://localhost:8080/"
        },
        "id": "dTS6NG4f5xns",
        "outputId": "99aa5f9e-ce38-440a-b484-0f80d3584fa7"
      },
      "execution_count": null,
      "outputs": [
        {
          "output_type": "execute_result",
          "data": {
            "text/plain": [
              "0.706825181105366"
            ]
          },
          "metadata": {},
          "execution_count": 27
        }
      ]
    },
    {
      "cell_type": "code",
      "source": [
        "np.sin(t)"
      ],
      "metadata": {
        "colab": {
          "base_uri": "https://localhost:8080/"
        },
        "id": "3clhuAL954H8",
        "outputId": "2874638b-2d04-45e3-c8dc-61c6a75e7337"
      },
      "execution_count": null,
      "outputs": [
        {
          "output_type": "execute_result",
          "data": {
            "text/plain": [
              "array([7.07106781e-01, 8.66025404e-01, 1.00000000e+00, 1.22464680e-16])"
            ]
          },
          "metadata": {},
          "execution_count": 28
        }
      ]
    },
    {
      "cell_type": "code",
      "source": [
        "np.cos(1)"
      ],
      "metadata": {
        "colab": {
          "base_uri": "https://localhost:8080/"
        },
        "id": "OICFE3T16TKo",
        "outputId": "46b7f6c2-fce3-42fa-8604-95acaf111677"
      },
      "execution_count": null,
      "outputs": [
        {
          "output_type": "execute_result",
          "data": {
            "text/plain": [
              "0.5403023058681398"
            ]
          },
          "metadata": {},
          "execution_count": 29
        }
      ]
    },
    {
      "cell_type": "code",
      "source": [
        "np.tan(1/2)"
      ],
      "metadata": {
        "colab": {
          "base_uri": "https://localhost:8080/"
        },
        "id": "SaR6YqIV6Viy",
        "outputId": "1e7d077c-a621-420d-fbd7-4926e2be886d"
      },
      "execution_count": null,
      "outputs": [
        {
          "output_type": "execute_result",
          "data": {
            "text/plain": [
              "0.5463024898437905"
            ]
          },
          "metadata": {},
          "execution_count": 30
        }
      ]
    },
    {
      "cell_type": "code",
      "source": [
        "np.tan(1)"
      ],
      "metadata": {
        "colab": {
          "base_uri": "https://localhost:8080/"
        },
        "id": "h6ij4bao6Yvm",
        "outputId": "121c4821-caf1-4aee-ae47-c9fc3ee893af"
      },
      "execution_count": null,
      "outputs": [
        {
          "output_type": "execute_result",
          "data": {
            "text/plain": [
              "1.5574077246549023"
            ]
          },
          "metadata": {},
          "execution_count": 31
        }
      ]
    },
    {
      "cell_type": "markdown",
      "source": [
        "**Statistics**"
      ],
      "metadata": {
        "id": "fDRg9eR26hBK"
      }
    },
    {
      "cell_type": "code",
      "source": [
        "st=np.array([23,45,67,89,21,34])"
      ],
      "metadata": {
        "id": "rodj9Fhd6o3y"
      },
      "execution_count": null,
      "outputs": []
    },
    {
      "cell_type": "code",
      "source": [
        "np.mean(st) #mean"
      ],
      "metadata": {
        "colab": {
          "base_uri": "https://localhost:8080/"
        },
        "id": "R_2AwbOH61M1",
        "outputId": "ee5b85c4-2797-4a46-e11d-aab313cd21f2"
      },
      "execution_count": null,
      "outputs": [
        {
          "output_type": "execute_result",
          "data": {
            "text/plain": [
              "46.5"
            ]
          },
          "metadata": {},
          "execution_count": 33
        }
      ]
    },
    {
      "cell_type": "code",
      "source": [
        "np.median(st) #median"
      ],
      "metadata": {
        "colab": {
          "base_uri": "https://localhost:8080/"
        },
        "id": "jm_QLwOO64IF",
        "outputId": "d4d63b43-2708-4496-db9d-26187b37f9f6"
      },
      "execution_count": null,
      "outputs": [
        {
          "output_type": "execute_result",
          "data": {
            "text/plain": [
              "39.5"
            ]
          },
          "metadata": {},
          "execution_count": 34
        }
      ]
    },
    {
      "cell_type": "code",
      "source": [
        "np.var(st) # variance with formula"
      ],
      "metadata": {
        "colab": {
          "base_uri": "https://localhost:8080/"
        },
        "id": "VjQWnCsT7Aj0",
        "outputId": "8ae735c4-6f6e-4577-f43c-9ab67065a959"
      },
      "execution_count": null,
      "outputs": [
        {
          "output_type": "execute_result",
          "data": {
            "text/plain": [
              "597.9166666666666"
            ]
          },
          "metadata": {},
          "execution_count": 35
        }
      ]
    },
    {
      "cell_type": "code",
      "source": [
        "np.std(st) #statistic deviation with formula"
      ],
      "metadata": {
        "colab": {
          "base_uri": "https://localhost:8080/"
        },
        "id": "S0tQkUAT7f4p",
        "outputId": "28bf57e1-6406-4409-a220-9e6afdd5d02b"
      },
      "execution_count": null,
      "outputs": [
        {
          "output_type": "execute_result",
          "data": {
            "text/plain": [
              "24.452334585202017"
            ]
          },
          "metadata": {},
          "execution_count": 36
        }
      ]
    },
    {
      "cell_type": "code",
      "source": [
        "c=np.arange(1,5).reshape(2,2)\n",
        "print(c)"
      ],
      "metadata": {
        "colab": {
          "base_uri": "https://localhost:8080/"
        },
        "id": "rtWK-ln28zId",
        "outputId": "531fd782-a466-4940-8178-2909b98a5cea"
      },
      "execution_count": null,
      "outputs": [
        {
          "output_type": "stream",
          "name": "stdout",
          "text": [
            "[[1 2]\n",
            " [3 4]]\n"
          ]
        }
      ]
    },
    {
      "cell_type": "code",
      "source": [
        "np.linalg.inv(c) #linear algebra inverse matrix"
      ],
      "metadata": {
        "colab": {
          "base_uri": "https://localhost:8080/"
        },
        "id": "GKxURQ7i-2Wc",
        "outputId": "a044ced7-4972-4153-9393-17bc6dade3d6"
      },
      "execution_count": null,
      "outputs": [
        {
          "output_type": "execute_result",
          "data": {
            "text/plain": [
              "array([[-2. ,  1. ],\n",
              "       [ 1.5, -0.5]])"
            ]
          },
          "metadata": {},
          "execution_count": 38
        }
      ]
    },
    {
      "cell_type": "code",
      "source": [
        "c=np.arange(1,25).reshape(6,4)\n",
        "print(c)"
      ],
      "metadata": {
        "colab": {
          "base_uri": "https://localhost:8080/"
        },
        "id": "bcQIzCr4_1rl",
        "outputId": "fcf201c0-13fd-4e69-d89f-c4d57f14e8bf"
      },
      "execution_count": null,
      "outputs": [
        {
          "output_type": "stream",
          "name": "stdout",
          "text": [
            "[[ 1  2  3  4]\n",
            " [ 5  6  7  8]\n",
            " [ 9 10 11 12]\n",
            " [13 14 15 16]\n",
            " [17 18 19 20]\n",
            " [21 22 23 24]]\n"
          ]
        }
      ]
    },
    {
      "cell_type": "code",
      "source": [
        "c=np.arange(1,25).reshape(6,4)\n",
        "print(np.argmax(c))"
      ],
      "metadata": {
        "colab": {
          "base_uri": "https://localhost:8080/"
        },
        "id": "8LbbdMWEAL9c",
        "outputId": "25b214aa-fc00-4e82-9b7d-3b6d9d5582dd"
      },
      "execution_count": null,
      "outputs": [
        {
          "output_type": "stream",
          "name": "stdout",
          "text": [
            "23\n"
          ]
        }
      ]
    },
    {
      "cell_type": "code",
      "source": [
        "c=np.floor(10*np.random.rand(24)).reshape(6,4)\n",
        "print(c)"
      ],
      "metadata": {
        "colab": {
          "base_uri": "https://localhost:8080/"
        },
        "id": "ZipsTDYWASON",
        "outputId": "ed310494-a008-4fcc-9275-1a9606dd1a06"
      },
      "execution_count": null,
      "outputs": [
        {
          "output_type": "stream",
          "name": "stdout",
          "text": [
            "[[2. 8. 8. 0.]\n",
            " [7. 1. 6. 3.]\n",
            " [3. 7. 2. 3.]\n",
            " [0. 3. 9. 3.]\n",
            " [9. 3. 4. 6.]\n",
            " [3. 7. 0. 0.]]\n"
          ]
        }
      ]
    },
    {
      "cell_type": "code",
      "source": [
        "print(np.argmax(c)) #maximum number (index)"
      ],
      "metadata": {
        "colab": {
          "base_uri": "https://localhost:8080/"
        },
        "id": "nf2OTX5LA-D3",
        "outputId": "3349a1b5-0360-489d-a4af-a6e8e25350aa"
      },
      "execution_count": null,
      "outputs": [
        {
          "output_type": "stream",
          "name": "stdout",
          "text": [
            "6\n"
          ]
        }
      ]
    },
    {
      "cell_type": "code",
      "source": [
        "c=10*np.random.rand(24).reshape(6,4)\n",
        "print(c)"
      ],
      "metadata": {
        "colab": {
          "base_uri": "https://localhost:8080/"
        },
        "id": "T-odWAkTBFPS",
        "outputId": "b42a0965-6da8-479f-8b04-682e870f81fb"
      },
      "execution_count": null,
      "outputs": [
        {
          "output_type": "stream",
          "name": "stdout",
          "text": [
            "[[1.83101955 4.86075005 7.77923002 8.91550563]\n",
            " [1.5000877  5.16399701 0.09383426 1.51412056]\n",
            " [2.4075894  7.79290305 5.17618229 2.29384893]\n",
            " [6.34368232 2.85585628 0.75587828 6.71787641]\n",
            " [1.54796845 5.26404369 0.21266799 8.51363729]\n",
            " [2.43619886 6.84082471 7.06826678 4.06476338]]\n"
          ]
        }
      ]
    },
    {
      "cell_type": "code",
      "source": [
        "np.argmax(c) #maximum number (index)"
      ],
      "metadata": {
        "colab": {
          "base_uri": "https://localhost:8080/"
        },
        "id": "Flz4yrKNCCR3",
        "outputId": "02887c82-3994-4cea-90d9-0f8f88c88df9"
      },
      "execution_count": null,
      "outputs": [
        {
          "output_type": "execute_result",
          "data": {
            "text/plain": [
              "3"
            ]
          },
          "metadata": {},
          "execution_count": 74
        }
      ]
    },
    {
      "cell_type": "code",
      "source": [
        "print(np.argmax(c,axis=1)) #it checks row wise and prints maximum number index"
      ],
      "metadata": {
        "colab": {
          "base_uri": "https://localhost:8080/"
        },
        "id": "p0SqtY5wCF1o",
        "outputId": "f145e916-0612-4a4d-a654-2598be3106d8"
      },
      "execution_count": null,
      "outputs": [
        {
          "output_type": "stream",
          "name": "stdout",
          "text": [
            "[3 1 1 3 3 2]\n"
          ]
        }
      ]
    },
    {
      "cell_type": "code",
      "source": [
        "print(np.argmax(c,axis=0)) #it checks column wise and prints maximum number index"
      ],
      "metadata": {
        "colab": {
          "base_uri": "https://localhost:8080/"
        },
        "id": "msosyGsXCUjU",
        "outputId": "84cfd179-ff98-42d0-d57f-236d8ba0215a"
      },
      "execution_count": null,
      "outputs": [
        {
          "output_type": "stream",
          "name": "stdout",
          "text": [
            "[3 2 0 0]\n"
          ]
        }
      ]
    },
    {
      "cell_type": "code",
      "source": [
        "print(np.argmin(c)) #minimum number (index)"
      ],
      "metadata": {
        "colab": {
          "base_uri": "https://localhost:8080/"
        },
        "id": "3oibW1UjEBlK",
        "outputId": "c0c19682-692f-45b8-de56-81fd11499f08"
      },
      "execution_count": null,
      "outputs": [
        {
          "output_type": "stream",
          "name": "stdout",
          "text": [
            "6\n"
          ]
        }
      ]
    },
    {
      "cell_type": "code",
      "source": [
        "print(np.argmin(c,axis=1)) #it checks row wise and prints minimum number index"
      ],
      "metadata": {
        "colab": {
          "base_uri": "https://localhost:8080/"
        },
        "id": "73q5FtgYEh_f",
        "outputId": "f1c0f713-34d2-4f36-da63-9710e92f9331"
      },
      "execution_count": null,
      "outputs": [
        {
          "output_type": "stream",
          "name": "stdout",
          "text": [
            "[0 2 3 2 2 0]\n"
          ]
        }
      ]
    },
    {
      "cell_type": "code",
      "source": [
        "print(np.argmin(c,axis=0)) #it checks column wise and prints minimum number index"
      ],
      "metadata": {
        "colab": {
          "base_uri": "https://localhost:8080/"
        },
        "id": "mteqY_K8EogW",
        "outputId": "f1580e89-4748-4c8f-b2f1-e437070efa47"
      },
      "execution_count": null,
      "outputs": [
        {
          "output_type": "stream",
          "name": "stdout",
          "text": [
            "[1 3 1 1]\n"
          ]
        }
      ]
    },
    {
      "cell_type": "markdown",
      "source": [
        "**Searching**"
      ],
      "metadata": {
        "id": "5X__6d4KFhmb"
      }
    },
    {
      "cell_type": "code",
      "source": [
        "a=np.array([34,56,7,17,88,91])"
      ],
      "metadata": {
        "id": "QgiAFZRGFoG0"
      },
      "execution_count": null,
      "outputs": []
    },
    {
      "cell_type": "code",
      "source": [
        "print(np.where(a%2==0)) # condition to print even numbers"
      ],
      "metadata": {
        "colab": {
          "base_uri": "https://localhost:8080/"
        },
        "id": "v65l5ggyF1LH",
        "outputId": "85ce588b-df74-46d3-8c24-ce1b10156f17"
      },
      "execution_count": null,
      "outputs": [
        {
          "output_type": "stream",
          "name": "stdout",
          "text": [
            "(array([0, 1, 4]),)\n"
          ]
        }
      ]
    },
    {
      "cell_type": "code",
      "source": [
        "print(np.where(a%2!=0)) # condition to print odd numbers"
      ],
      "metadata": {
        "colab": {
          "base_uri": "https://localhost:8080/"
        },
        "id": "XS8BIw41F_hm",
        "outputId": "721988c4-9799-452c-81aa-b411d8b51dac"
      },
      "execution_count": null,
      "outputs": [
        {
          "output_type": "stream",
          "name": "stdout",
          "text": [
            "(array([2, 3, 5]),)\n"
          ]
        }
      ]
    },
    {
      "cell_type": "code",
      "source": [
        "b=np.array([24,16,7,17,54,60])"
      ],
      "metadata": {
        "id": "l0j_PR3bGUJa"
      },
      "execution_count": null,
      "outputs": []
    },
    {
      "cell_type": "code",
      "source": [
        "print(np.where(b%6==0))"
      ],
      "metadata": {
        "colab": {
          "base_uri": "https://localhost:8080/"
        },
        "id": "kisl92Y0GxFt",
        "outputId": "853869b9-453e-46c4-b19e-d9f8743f1b27"
      },
      "execution_count": null,
      "outputs": [
        {
          "output_type": "stream",
          "name": "stdout",
          "text": [
            "(array([0, 4, 5]),)\n"
          ]
        }
      ]
    },
    {
      "cell_type": "code",
      "source": [
        "s=np.array([6,7,8,9,10])"
      ],
      "metadata": {
        "id": "XD1zPAawHKW8"
      },
      "execution_count": null,
      "outputs": []
    },
    {
      "cell_type": "code",
      "source": [
        "x=np.searchsorted(s,10) #searching a number in sorted array it gives index of that number\n",
        "print(x)"
      ],
      "metadata": {
        "colab": {
          "base_uri": "https://localhost:8080/"
        },
        "id": "TPGu9MFLHlor",
        "outputId": "050d4942-0e20-4ca2-9856-74360fc2800c"
      },
      "execution_count": null,
      "outputs": [
        {
          "output_type": "stream",
          "name": "stdout",
          "text": [
            "4\n"
          ]
        }
      ]
    },
    {
      "cell_type": "code",
      "source": [
        "name=np.array([\"revanth\",\"manohar\",\"abdul\",\"hemanth\"])\n",
        "print(np.sort(name))\n"
      ],
      "metadata": {
        "colab": {
          "base_uri": "https://localhost:8080/"
        },
        "id": "VVJ8RJeSH3Bz",
        "outputId": "4c76ec77-b112-43ff-9598-8223d83d0b60"
      },
      "execution_count": null,
      "outputs": [
        {
          "output_type": "stream",
          "name": "stdout",
          "text": [
            "['abdul' 'hemanth' 'manohar' 'revanth']\n"
          ]
        }
      ]
    },
    {
      "cell_type": "code",
      "source": [
        "arr=np.array([True,False,True])\n",
        "print(np.sort(arr))"
      ],
      "metadata": {
        "colab": {
          "base_uri": "https://localhost:8080/"
        },
        "id": "QYtUSbvfJBb3",
        "outputId": "b36f8868-3c6d-46bf-d676-28a01c58545f"
      },
      "execution_count": null,
      "outputs": [
        {
          "output_type": "stream",
          "name": "stdout",
          "text": [
            "[False  True  True]\n"
          ]
        }
      ]
    },
    {
      "cell_type": "code",
      "source": [
        "arr1=np.array([[1,2,4],[5,0,1]]) #arrays sorted\n",
        "print(np.sort(arr1))"
      ],
      "metadata": {
        "colab": {
          "base_uri": "https://localhost:8080/"
        },
        "id": "XAf-II5BJv4p",
        "outputId": "189a914a-90fe-42e7-de7f-4e9f8184f6e3"
      },
      "execution_count": null,
      "outputs": [
        {
          "output_type": "stream",
          "name": "stdout",
          "text": [
            "[[1 2 4]\n",
            " [0 1 5]]\n"
          ]
        }
      ]
    },
    {
      "cell_type": "markdown",
      "source": [
        "**Filtering**"
      ],
      "metadata": {
        "id": "XWMOHZs2Ml3R"
      }
    },
    {
      "cell_type": "code",
      "source": [
        "arr2=np.array([40,4,58,44,67,78]) #filters\n",
        "x=[True,False,True,False,True,True]\n",
        "newarr=arr2[x]\n",
        "print(newarr)"
      ],
      "metadata": {
        "colab": {
          "base_uri": "https://localhost:8080/"
        },
        "id": "mS1YWKfpKQfj",
        "outputId": "b6caab5b-e1bc-4d9e-a529-a6ba9aafff56"
      },
      "execution_count": null,
      "outputs": [
        {
          "output_type": "stream",
          "name": "stdout",
          "text": [
            "[40 58 67 78]\n"
          ]
        }
      ]
    },
    {
      "cell_type": "code",
      "source": [
        "arr=np.array([45,21,55,48,24,15,85]) #filter technique\n",
        "filt=np.where(arr%2==0)\n",
        "print(filt)"
      ],
      "metadata": {
        "colab": {
          "base_uri": "https://localhost:8080/"
        },
        "id": "5ZGYd8NCLJlD",
        "outputId": "840d8d6e-6432-4264-fcfd-f7bd3230ec0b"
      },
      "execution_count": null,
      "outputs": [
        {
          "output_type": "stream",
          "name": "stdout",
          "text": [
            "(array([3, 4]),)\n"
          ]
        }
      ]
    },
    {
      "cell_type": "code",
      "source": [
        "arr[filt] #filter technique"
      ],
      "metadata": {
        "colab": {
          "base_uri": "https://localhost:8080/"
        },
        "id": "q8Aismr_L8GB",
        "outputId": "a23a5ac1-b9b9-412b-b2cb-1bd6bfebba73"
      },
      "execution_count": null,
      "outputs": [
        {
          "output_type": "execute_result",
          "data": {
            "text/plain": [
              "array([48, 24])"
            ]
          },
          "metadata": {},
          "execution_count": 101
        }
      ]
    },
    {
      "cell_type": "code",
      "source": [
        "arr[0],arr[1],arr[2],arr[3],arr[4],arr[5],arr[6]"
      ],
      "metadata": {
        "colab": {
          "base_uri": "https://localhost:8080/"
        },
        "id": "ii76gPpnMDna",
        "outputId": "b8e4b681-5608-496e-f2f9-070097a3ea2a"
      },
      "execution_count": null,
      "outputs": [
        {
          "output_type": "execute_result",
          "data": {
            "text/plain": [
              "(45, 21, 55, 48, 24, 15, 85)"
            ]
          },
          "metadata": {},
          "execution_count": 102
        }
      ]
    },
    {
      "cell_type": "markdown",
      "source": [
        "**Iterating Through Arrays**"
      ],
      "metadata": {
        "id": "PWFeV8uEO08f"
      }
    },
    {
      "cell_type": "code",
      "source": [
        "name=np.array([\"Revanth\",\"Manohar\",\"Abdul\",\"Hemanth\"])\n",
        "initials=np.array([\"K\",\"K\",\"M\",\"K\"])\n",
        "for i,j in zip(initials,name): #zip is combine two arrays\n",
        "  print(i,\".\",j)"
      ],
      "metadata": {
        "colab": {
          "base_uri": "https://localhost:8080/",
          "height": 193
        },
        "id": "Cc3pQ1uoMcOR",
        "outputId": "415fa6e4-07ae-4dcd-f42a-c237fea42922"
      },
      "execution_count": null,
      "outputs": [
        {
          "output_type": "error",
          "ename": "NameError",
          "evalue": "name 'np' is not defined",
          "traceback": [
            "\u001b[0;31m---------------------------------------------------------------------------\u001b[0m",
            "\u001b[0;31mNameError\u001b[0m                                 Traceback (most recent call last)",
            "\u001b[0;32m<ipython-input-1-079f7f9cc2b6>\u001b[0m in \u001b[0;36m<cell line: 1>\u001b[0;34m()\u001b[0m\n\u001b[0;32m----> 1\u001b[0;31m \u001b[0mname\u001b[0m\u001b[0;34m=\u001b[0m\u001b[0mnp\u001b[0m\u001b[0;34m.\u001b[0m\u001b[0marray\u001b[0m\u001b[0;34m(\u001b[0m\u001b[0;34m[\u001b[0m\u001b[0;34m\"Revanth\"\u001b[0m\u001b[0;34m,\u001b[0m\u001b[0;34m\"Manohar\"\u001b[0m\u001b[0;34m,\u001b[0m\u001b[0;34m\"Abdul\"\u001b[0m\u001b[0;34m,\u001b[0m\u001b[0;34m\"Hemanth\"\u001b[0m\u001b[0;34m]\u001b[0m\u001b[0;34m)\u001b[0m\u001b[0;34m\u001b[0m\u001b[0;34m\u001b[0m\u001b[0m\n\u001b[0m\u001b[1;32m      2\u001b[0m \u001b[0minitials\u001b[0m\u001b[0;34m=\u001b[0m\u001b[0mnp\u001b[0m\u001b[0;34m.\u001b[0m\u001b[0marray\u001b[0m\u001b[0;34m(\u001b[0m\u001b[0;34m[\u001b[0m\u001b[0;34m\"K\"\u001b[0m\u001b[0;34m,\u001b[0m\u001b[0;34m\"K\"\u001b[0m\u001b[0;34m,\u001b[0m\u001b[0;34m\"M\"\u001b[0m\u001b[0;34m,\u001b[0m\u001b[0;34m\"K\"\u001b[0m\u001b[0;34m]\u001b[0m\u001b[0;34m)\u001b[0m\u001b[0;34m\u001b[0m\u001b[0;34m\u001b[0m\u001b[0m\n\u001b[1;32m      3\u001b[0m \u001b[0;32mfor\u001b[0m \u001b[0mi\u001b[0m\u001b[0;34m,\u001b[0m\u001b[0mj\u001b[0m \u001b[0;32min\u001b[0m \u001b[0mzip\u001b[0m\u001b[0;34m(\u001b[0m\u001b[0minitials\u001b[0m\u001b[0;34m,\u001b[0m\u001b[0mname\u001b[0m\u001b[0;34m)\u001b[0m\u001b[0;34m:\u001b[0m \u001b[0;31m#zip is combine two arrays\u001b[0m\u001b[0;34m\u001b[0m\u001b[0;34m\u001b[0m\u001b[0m\n\u001b[1;32m      4\u001b[0m   \u001b[0mprint\u001b[0m\u001b[0;34m(\u001b[0m\u001b[0mi\u001b[0m\u001b[0;34m,\u001b[0m\u001b[0;34m\".\"\u001b[0m\u001b[0;34m,\u001b[0m\u001b[0mj\u001b[0m\u001b[0;34m)\u001b[0m\u001b[0;34m\u001b[0m\u001b[0;34m\u001b[0m\u001b[0m\n",
            "\u001b[0;31mNameError\u001b[0m: name 'np' is not defined"
          ]
        }
      ]
    },
    {
      "cell_type": "code",
      "source": [
        "a=np.array([\"Revanth\",\"Manohar\",\"Abdul\",\"Hemanth\"])\n",
        "b=np.array([\"K\",\"K\",\"M\",\"K\"])\n",
        "c=np.array([\"Sai Teja\",\"Subramanyam\",\"Raouf\",\"Satya Sai\"])\n",
        "for i,j,k in zip(a,b,c):\n",
        "  print(j,\".\",i,\" \",k)"
      ],
      "metadata": {
        "colab": {
          "base_uri": "https://localhost:8080/"
        },
        "id": "crlll_JDP_m_",
        "outputId": "810a503a-c0f6-4f2c-cc0c-ce34b56ddc6c"
      },
      "execution_count": null,
      "outputs": [
        {
          "output_type": "stream",
          "name": "stdout",
          "text": [
            "K . Revanth   Sai Teja\n",
            "K . Manohar   Subramanyam\n",
            "M . Abdul   Raouf\n",
            "K . Hemanth   Satya Sai\n"
          ]
        }
      ]
    },
    {
      "cell_type": "code",
      "source": [
        "a1=np.array([10,20,30,40,50])\n",
        "a2=np.array([1,2,3,4,5])\n",
        "n=np.multiply(a1,a2)    #multiplying two arrays\n",
        "print(n)"
      ],
      "metadata": {
        "colab": {
          "base_uri": "https://localhost:8080/"
        },
        "id": "OOmiJ_RRQvXh",
        "outputId": "7adc219c-3b99-46ba-b08f-9da2c8eb5534"
      },
      "execution_count": null,
      "outputs": [
        {
          "output_type": "stream",
          "name": "stdout",
          "text": [
            "[ 10  40  90 160 250]\n"
          ]
        }
      ]
    },
    {
      "cell_type": "code",
      "source": [
        "a1=np.array([10,20,30,40,50])\n",
        "a2=np.array([1,2,3,4,5])\n",
        "n=np.divide(a1,a2)  #dividing two arrays\n",
        "print(n)"
      ],
      "metadata": {
        "colab": {
          "base_uri": "https://localhost:8080/"
        },
        "id": "dvPf_fVJRItT",
        "outputId": "16f88a31-cf54-456d-dc1f-409eae3bdc85"
      },
      "execution_count": null,
      "outputs": [
        {
          "output_type": "stream",
          "name": "stdout",
          "text": [
            "[10. 10. 10. 10. 10.]\n"
          ]
        }
      ]
    },
    {
      "cell_type": "code",
      "source": [
        "a1=np.array([10,20,30,40,50])\n",
        "a2=np.array([1,2,3,4,5])\n",
        "n=np.mod(a1,a2) #modulus of two arrays\n",
        "print(n)"
      ],
      "metadata": {
        "colab": {
          "base_uri": "https://localhost:8080/"
        },
        "id": "8t2f8mCnRUFa",
        "outputId": "eae908d8-dbd7-4492-a2a3-b1571b46fd8f"
      },
      "execution_count": null,
      "outputs": [
        {
          "output_type": "stream",
          "name": "stdout",
          "text": [
            "[0 0 0 0 0]\n"
          ]
        }
      ]
    },
    {
      "cell_type": "code",
      "source": [
        "a1=np.array([10,20,30,40,50])\n",
        "a2=np.array([1,2,3,4,5])\n",
        "n=np.divmod(a1,a2) #division and modulus of two arrays\n",
        "print(n)"
      ],
      "metadata": {
        "colab": {
          "base_uri": "https://localhost:8080/"
        },
        "id": "qu2dBZ38Ra13",
        "outputId": "a78784dd-d154-4595-bc1f-7c7f118d7c1f"
      },
      "execution_count": null,
      "outputs": [
        {
          "output_type": "stream",
          "name": "stdout",
          "text": [
            "(array([10, 10, 10, 10, 10]), array([0, 0, 0, 0, 0]))\n"
          ]
        }
      ]
    },
    {
      "cell_type": "markdown",
      "source": [
        "**Logarithms**"
      ],
      "metadata": {
        "id": "0JPG-X6bSavJ"
      }
    },
    {
      "cell_type": "code",
      "source": [
        "a1=np.arange(1,10) #it prints the logarithms values\n",
        "print(a1)\n",
        "print(np.log(a1))"
      ],
      "metadata": {
        "colab": {
          "base_uri": "https://localhost:8080/"
        },
        "id": "3_4JviE3RinU",
        "outputId": "3c6991d1-73a7-4cd1-bc82-bdce20f3f17b"
      },
      "execution_count": null,
      "outputs": [
        {
          "output_type": "stream",
          "name": "stdout",
          "text": [
            "[1 2 3 4 5 6 7 8 9]\n",
            "[0.         0.69314718 1.09861229 1.38629436 1.60943791 1.79175947\n",
            " 1.94591015 2.07944154 2.19722458]\n"
          ]
        }
      ]
    },
    {
      "cell_type": "code",
      "source": [
        "a1=np.arange(1,10) #it prints the logarithms values with base 2\n",
        "print(a1)\n",
        "print(np.log2(a1))"
      ],
      "metadata": {
        "colab": {
          "base_uri": "https://localhost:8080/"
        },
        "id": "HRdKFgX7SxdK",
        "outputId": "a5c526e2-a124-46e1-9377-9af979e6d234"
      },
      "execution_count": null,
      "outputs": [
        {
          "output_type": "stream",
          "name": "stdout",
          "text": [
            "[1 2 3 4 5 6 7 8 9]\n",
            "[0.         1.         1.5849625  2.         2.32192809 2.5849625\n",
            " 2.80735492 3.         3.169925  ]\n"
          ]
        }
      ]
    },
    {
      "cell_type": "code",
      "source": [
        "a1=np.arange(1,10) #it prints the logarithms values with base 10\n",
        "print(a1)\n",
        "print(np.log10(a1))"
      ],
      "metadata": {
        "colab": {
          "base_uri": "https://localhost:8080/"
        },
        "id": "yBl6Ngb2TYyb",
        "outputId": "c8fcea32-0842-4dca-ddeb-079c48ca2ed0"
      },
      "execution_count": null,
      "outputs": [
        {
          "output_type": "stream",
          "name": "stdout",
          "text": [
            "[1 2 3 4 5 6 7 8 9]\n",
            "[0.         0.30103    0.47712125 0.60205999 0.69897    0.77815125\n",
            " 0.84509804 0.90308999 0.95424251]\n"
          ]
        }
      ]
    },
    {
      "cell_type": "markdown",
      "source": [
        "Other Mathematical Functions **bold text**"
      ],
      "metadata": {
        "id": "KykPw5MDUvrm"
      }
    },
    {
      "cell_type": "code",
      "source": [
        "a=np.array([5,6,7,10])\n",
        "x=np.cumprod(a)\n",
        "print(x)"
      ],
      "metadata": {
        "colab": {
          "base_uri": "https://localhost:8080/"
        },
        "id": "auWdWJhQTbbm",
        "outputId": "30564fe7-fa3f-43f0-eaf6-285253c7c014"
      },
      "execution_count": null,
      "outputs": [
        {
          "output_type": "stream",
          "name": "stdout",
          "text": [
            "[   5   30  210 2100]\n"
          ]
        }
      ]
    },
    {
      "cell_type": "code",
      "source": [
        "a=np.array([5,6,7,10])\n",
        "x=np.diff(a)\n",
        "print(x)"
      ],
      "metadata": {
        "colab": {
          "base_uri": "https://localhost:8080/"
        },
        "id": "K8CSLOztVBEW",
        "outputId": "782104fa-5063-4fee-919d-460b4f383b45"
      },
      "execution_count": null,
      "outputs": [
        {
          "output_type": "stream",
          "name": "stdout",
          "text": [
            "[1 1 3]\n"
          ]
        }
      ]
    },
    {
      "cell_type": "code",
      "source": [
        "num1=455\n",
        "num2=665\n",
        "x=np.lcm(num1,num2)\n",
        "print(x)"
      ],
      "metadata": {
        "colab": {
          "base_uri": "https://localhost:8080/"
        },
        "id": "ppFChFw4VPF5",
        "outputId": "288c962b-0f9c-4fb9-f217-d6094b81d24a"
      },
      "execution_count": null,
      "outputs": [
        {
          "output_type": "stream",
          "name": "stdout",
          "text": [
            "8645\n"
          ]
        }
      ]
    },
    {
      "cell_type": "code",
      "source": [
        "num1=455\n",
        "num2=665\n",
        "x=np.gcd(num1,num2)\n",
        "print(x)"
      ],
      "metadata": {
        "colab": {
          "base_uri": "https://localhost:8080/"
        },
        "id": "QggiMu1BVpx3",
        "outputId": "8bed5b7e-fb5a-4ece-ef46-f3c2a124b42d"
      },
      "execution_count": null,
      "outputs": [
        {
          "output_type": "stream",
          "name": "stdout",
          "text": [
            "35\n"
          ]
        }
      ]
    },
    {
      "cell_type": "code",
      "source": [
        "a=np.array([5,6,7,10])\n",
        "x=np.cumsum(a)\n",
        "print(x)"
      ],
      "metadata": {
        "colab": {
          "base_uri": "https://localhost:8080/"
        },
        "id": "LyxOs1nRV38j",
        "outputId": "7bbd9a76-0eeb-4f4a-ba9f-e7d0af111128"
      },
      "execution_count": null,
      "outputs": [
        {
          "output_type": "stream",
          "name": "stdout",
          "text": [
            "[ 5 11 18 28]\n"
          ]
        }
      ]
    },
    {
      "cell_type": "code",
      "source": [
        "a=np.array([12,15,60])\n",
        "gc=np.gcd.reduce(a) # reduce :-takes multiple inputs gives output\n",
        "print(gc)\n"
      ],
      "metadata": {
        "colab": {
          "base_uri": "https://localhost:8080/"
        },
        "id": "uyLAm0-3WMOo",
        "outputId": "c59e49fc-aac5-47ba-d484-a30195f9bbab"
      },
      "execution_count": null,
      "outputs": [
        {
          "output_type": "stream",
          "name": "stdout",
          "text": [
            "3\n"
          ]
        }
      ]
    },
    {
      "cell_type": "code",
      "source": [
        "a=np.array([12,15,60])\n",
        "lc=np.lcm.reduce(a)\n",
        "print(lc)"
      ],
      "metadata": {
        "colab": {
          "base_uri": "https://localhost:8080/"
        },
        "id": "9DA8xeivW8gf",
        "outputId": "f3ca377e-a29b-44dc-bd44-ab2f316e567a"
      },
      "execution_count": null,
      "outputs": [
        {
          "output_type": "stream",
          "name": "stdout",
          "text": [
            "60\n"
          ]
        }
      ]
    },
    {
      "cell_type": "code",
      "source": [],
      "metadata": {
        "id": "GfcnnAKoX7cm"
      },
      "execution_count": null,
      "outputs": []
    }
  ]
}