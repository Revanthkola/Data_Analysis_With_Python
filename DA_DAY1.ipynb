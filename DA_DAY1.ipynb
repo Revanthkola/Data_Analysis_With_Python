{
  "nbformat": 4,
  "nbformat_minor": 0,
  "metadata": {
    "colab": {
      "provenance": [],
      "authorship_tag": "ABX9TyNLgnRsXgJ+zP4kamMWQOUE",
      "include_colab_link": true
    },
    "kernelspec": {
      "name": "python3",
      "display_name": "Python 3"
    },
    "language_info": {
      "name": "python"
    }
  },
  "cells": [
    {
      "cell_type": "markdown",
      "metadata": {
        "id": "view-in-github",
        "colab_type": "text"
      },
      "source": [
        "<a href=\"https://colab.research.google.com/github/Revanthkola/Data_Analysis_With_Python/blob/main/DA_DAY1.ipynb\" target=\"_parent\"><img src=\"https://colab.research.google.com/assets/colab-badge.svg\" alt=\"Open In Colab\"/></a>"
      ]
    },
    {
      "cell_type": "code",
      "execution_count": null,
      "metadata": {
        "colab": {
          "base_uri": "https://localhost:8080/"
        },
        "id": "2pUBC4sPmY4G",
        "outputId": "717fabe3-c968-48c3-d99e-e391b9f4776a"
      },
      "outputs": [
        {
          "output_type": "stream",
          "name": "stdout",
          "text": [
            "i am 5 Years old\n"
          ]
        }
      ],
      "source": [
        "a=5\n",
        "print(\"i am\",a,\"Years old\")"
      ]
    },
    {
      "cell_type": "code",
      "source": [],
      "metadata": {
        "id": "yZhaDv62mkmh"
      },
      "execution_count": null,
      "outputs": []
    },
    {
      "cell_type": "markdown",
      "source": [
        "**Operators**"
      ],
      "metadata": {
        "id": "OzNE57wBmmII"
      }
    },
    {
      "cell_type": "code",
      "source": [
        "a=int(input(\"enter a value : \"))\n",
        "b=int(input(\"enter b value : \"))\n",
        "n=10\n",
        "c=a*b\n",
        "\n",
        "for i in range(1,n):\n",
        "  print(i)"
      ],
      "metadata": {
        "colab": {
          "base_uri": "https://localhost:8080/"
        },
        "id": "0BWB74cQmsqu",
        "outputId": "ea5308fe-6309-416b-e340-f35985d6742b"
      },
      "execution_count": null,
      "outputs": [
        {
          "output_type": "stream",
          "name": "stdout",
          "text": [
            "enter a value : 12\n",
            "enter b value : 12\n",
            "1\n",
            "2\n",
            "3\n",
            "4\n",
            "5\n",
            "6\n",
            "7\n",
            "8\n",
            "9\n"
          ]
        }
      ]
    },
    {
      "cell_type": "code",
      "source": [
        "a=6\n",
        "b=4\n",
        "c=a+b\n",
        "print(c)"
      ],
      "metadata": {
        "id": "i6Xd0nmPnJmc",
        "colab": {
          "base_uri": "https://localhost:8080/"
        },
        "outputId": "5b74e0ef-f5ca-41a7-ff8d-d3ff4a448906"
      },
      "execution_count": null,
      "outputs": [
        {
          "output_type": "stream",
          "name": "stdout",
          "text": [
            "10\n"
          ]
        }
      ]
    },
    {
      "cell_type": "code",
      "source": [],
      "metadata": {
        "id": "vibXKDWpx7Ug"
      },
      "execution_count": null,
      "outputs": []
    },
    {
      "cell_type": "markdown",
      "source": [
        "**Operators**"
      ],
      "metadata": {
        "id": "E3_v5g4wyEPV"
      }
    },
    {
      "cell_type": "code",
      "source": [
        "print(2**5)"
      ],
      "metadata": {
        "colab": {
          "base_uri": "https://localhost:8080/"
        },
        "id": "0XnwzpIkyIQ9",
        "outputId": "f7f0fce4-f946-4537-a648-ecb2ffd9aaf9"
      },
      "execution_count": null,
      "outputs": [
        {
          "output_type": "stream",
          "name": "stdout",
          "text": [
            "32\n"
          ]
        }
      ]
    },
    {
      "cell_type": "code",
      "source": [
        "print(2**5)"
      ],
      "metadata": {
        "colab": {
          "base_uri": "https://localhost:8080/"
        },
        "id": "O_PXr5SkyMMO",
        "outputId": "0363a02d-9afd-4aad-e977-e476b3c811b8"
      },
      "execution_count": null,
      "outputs": [
        {
          "output_type": "stream",
          "name": "stdout",
          "text": [
            "32\n"
          ]
        }
      ]
    },
    {
      "cell_type": "code",
      "source": [
        "a=6\n",
        "b=6\n",
        "print(a==b)\n",
        "print(a>b)\n",
        "print(a<b)\n",
        "print(a<=b)\n",
        "print(a>=b)\n",
        "print(a!=b)"
      ],
      "metadata": {
        "colab": {
          "base_uri": "https://localhost:8080/"
        },
        "id": "2oCn8z-OyQgk",
        "outputId": "42f0e1f1-2b75-4b49-f995-942d7d49ec99"
      },
      "execution_count": null,
      "outputs": [
        {
          "output_type": "stream",
          "name": "stdout",
          "text": [
            "True\n",
            "False\n",
            "False\n",
            "True\n",
            "True\n",
            "False\n"
          ]
        }
      ]
    },
    {
      "cell_type": "code",
      "source": [
        "#logical\n",
        "a=109\n",
        "b=250\n",
        "print((a>b) and (a<b))"
      ],
      "metadata": {
        "colab": {
          "base_uri": "https://localhost:8080/"
        },
        "id": "rwdT5vDayVZc",
        "outputId": "744fde61-496b-4f13-bd46-a1b3ef18789b"
      },
      "execution_count": null,
      "outputs": [
        {
          "output_type": "stream",
          "name": "stdout",
          "text": [
            "False\n"
          ]
        }
      ]
    },
    {
      "cell_type": "code",
      "source": [
        "print((a>b) or (a<b))"
      ],
      "metadata": {
        "colab": {
          "base_uri": "https://localhost:8080/"
        },
        "id": "spfY6AGHycMj",
        "outputId": "30212659-c1ef-45fb-8b17-9b9886d57e11"
      },
      "execution_count": null,
      "outputs": [
        {
          "output_type": "stream",
          "name": "stdout",
          "text": [
            "True\n"
          ]
        }
      ]
    },
    {
      "cell_type": "code",
      "source": [
        "#member\n",
        "a={10,20,30,40,50}\n",
        "b={60,70,20,30,80}\n",
        "print(40 not in b)\n",
        "print(60 in a)"
      ],
      "metadata": {
        "colab": {
          "base_uri": "https://localhost:8080/"
        },
        "id": "JjUZ0Vn9yigA",
        "outputId": "1cf475c5-6c8a-436a-e37c-8dc61e4e0ec7"
      },
      "execution_count": null,
      "outputs": [
        {
          "output_type": "stream",
          "name": "stdout",
          "text": [
            "True\n",
            "False\n"
          ]
        }
      ]
    },
    {
      "cell_type": "markdown",
      "source": [
        "**Control Flow**"
      ],
      "metadata": {
        "id": "LbX6uEtNytTN"
      }
    },
    {
      "cell_type": "code",
      "source": [
        "#conditionl if\n",
        "#write a program to get anumber from the user and check whether it is positive or negative\n",
        "a=int(input(\"enter a value :\"))\n",
        "print(type(a))"
      ],
      "metadata": {
        "colab": {
          "base_uri": "https://localhost:8080/"
        },
        "id": "gVqyhqiDyov-",
        "outputId": "ac32e663-c05f-43fe-b3c2-42a90f703004"
      },
      "execution_count": null,
      "outputs": [
        {
          "output_type": "stream",
          "name": "stdout",
          "text": [
            "enter a value :10\n",
            "<class 'int'>\n"
          ]
        }
      ]
    },
    {
      "cell_type": "code",
      "source": [
        "#type casting\n",
        "a=6\n",
        "n=float(a)\n",
        "print(n)\n",
        "print(type(n))"
      ],
      "metadata": {
        "colab": {
          "base_uri": "https://localhost:8080/"
        },
        "id": "K-64vp-FzBtW",
        "outputId": "896f54fe-7582-4d8e-fafb-c0c8b603870a"
      },
      "execution_count": null,
      "outputs": [
        {
          "output_type": "stream",
          "name": "stdout",
          "text": [
            "6.0\n",
            "<class 'float'>\n"
          ]
        }
      ]
    },
    {
      "cell_type": "code",
      "source": [
        "#positive or negative\n",
        "a=int(input(\"enter a number : \"))\n",
        "if(a>0):\n",
        "  print(\"it is positive\")\n",
        "if(a<0):\n",
        "  print(\"it is negative\")\n",
        "if(a==0):\n",
        "  print(\"it is either positive or negative\")"
      ],
      "metadata": {
        "colab": {
          "base_uri": "https://localhost:8080/"
        },
        "id": "87F_66fwzJXB",
        "outputId": "c1f379bc-d5e6-4cb9-c073-7e163a03a93d"
      },
      "execution_count": null,
      "outputs": [
        {
          "output_type": "stream",
          "name": "stdout",
          "text": [
            "enter a number : 10\n",
            "it is positive\n"
          ]
        }
      ]
    },
    {
      "cell_type": "code",
      "source": [
        "a=int(input(\"enter the integer :\"))\n",
        "n=float(a)\n",
        "print(n)\n",
        "print(type(a))"
      ],
      "metadata": {
        "colab": {
          "base_uri": "https://localhost:8080/"
        },
        "id": "4mX5PQcezOmk",
        "outputId": "60791e09-59e3-4afd-f1d9-7cb82671824e"
      },
      "execution_count": null,
      "outputs": [
        {
          "output_type": "stream",
          "name": "stdout",
          "text": [
            "enter the integer :10\n",
            "10.0\n",
            "<class 'int'>\n"
          ]
        }
      ]
    },
    {
      "cell_type": "code",
      "source": [
        "a=int(input(\"enter a number : \"))\n",
        "if(a>0):\n",
        "  print(\"it is positive\")\n",
        "elif(a<0):\n",
        "  print(\"it is negative\")\n",
        "else:\n",
        "  print(\"it is either positive or negative\")"
      ],
      "metadata": {
        "colab": {
          "base_uri": "https://localhost:8080/"
        },
        "id": "1nGeHV5ozVYJ",
        "outputId": "76e272f8-4fd9-4fc5-fb9a-d251d7320b96"
      },
      "execution_count": null,
      "outputs": [
        {
          "output_type": "stream",
          "name": "stdout",
          "text": [
            "enter a number : 10\n",
            "it is positive\n"
          ]
        }
      ]
    },
    {
      "cell_type": "code",
      "source": [
        "#looping\n",
        "a=int(input(\"enter a value\"))\n",
        "for i in range(1,11,1):\n",
        "  n=a*i\n",
        "  print(n)"
      ],
      "metadata": {
        "colab": {
          "base_uri": "https://localhost:8080/"
        },
        "id": "ImIIzpeCzhaN",
        "outputId": "17326d45-4388-4ba0-c153-eb2799a2f195"
      },
      "execution_count": null,
      "outputs": [
        {
          "output_type": "stream",
          "name": "stdout",
          "text": [
            "enter a value2\n",
            "2\n",
            "4\n",
            "6\n",
            "8\n",
            "10\n",
            "12\n",
            "14\n",
            "16\n",
            "18\n",
            "20\n"
          ]
        }
      ]
    },
    {
      "cell_type": "code",
      "source": [
        "a=65.6\n",
        "b=7\n",
        "print(a*b)\n",
        "print(a+b)\n",
        "print(int(a+b))\n",
        "print(int(a*b))"
      ],
      "metadata": {
        "colab": {
          "base_uri": "https://localhost:8080/"
        },
        "id": "288d11zVzneE",
        "outputId": "a2435174-0e4a-4d7a-b75b-6e8befb5cf1a"
      },
      "execution_count": null,
      "outputs": [
        {
          "output_type": "stream",
          "name": "stdout",
          "text": [
            "459.19999999999993\n",
            "72.6\n",
            "72\n",
            "459\n"
          ]
        }
      ]
    },
    {
      "cell_type": "code",
      "source": [
        "a=45\n",
        "a=float(a)\n",
        "print(type(a))\n",
        "print(a)"
      ],
      "metadata": {
        "colab": {
          "base_uri": "https://localhost:8080/"
        },
        "id": "LWkCbDN0zxM2",
        "outputId": "323be90e-024b-41e1-8bda-09527993e45b"
      },
      "execution_count": null,
      "outputs": [
        {
          "output_type": "stream",
          "name": "stdout",
          "text": [
            "<class 'float'>\n",
            "45.0\n"
          ]
        }
      ]
    },
    {
      "cell_type": "code",
      "source": [
        "#slicing\n",
        "a=\"python is easy\"\n",
        "print(a[0:6])"
      ],
      "metadata": {
        "colab": {
          "base_uri": "https://localhost:8080/"
        },
        "id": "D4VEsYFpz2L4",
        "outputId": "71808059-4a6c-4863-b1b1-9f44b7a432e5"
      },
      "execution_count": null,
      "outputs": [
        {
          "output_type": "stream",
          "name": "stdout",
          "text": [
            "python\n"
          ]
        }
      ]
    },
    {
      "cell_type": "code",
      "source": [
        "print(a[5:9])"
      ],
      "metadata": {
        "colab": {
          "base_uri": "https://localhost:8080/"
        },
        "id": "rO_yKHVdz7r0",
        "outputId": "67942379-153b-42cb-ed5f-f6b2bd1fa048"
      },
      "execution_count": null,
      "outputs": [
        {
          "output_type": "stream",
          "name": "stdout",
          "text": [
            "n is\n"
          ]
        }
      ]
    },
    {
      "cell_type": "code",
      "source": [
        "print(a[10:15])"
      ],
      "metadata": {
        "colab": {
          "base_uri": "https://localhost:8080/"
        },
        "id": "2IGGf-3zz_kX",
        "outputId": "6790862a-5e91-4ba3-b712-a277797a3023"
      },
      "execution_count": null,
      "outputs": [
        {
          "output_type": "stream",
          "name": "stdout",
          "text": [
            "easy\n"
          ]
        }
      ]
    },
    {
      "cell_type": "code",
      "source": [
        "print(a[::-1])"
      ],
      "metadata": {
        "colab": {
          "base_uri": "https://localhost:8080/"
        },
        "id": "r5a_D6KM0EIM",
        "outputId": "020fff77-b6f9-4e05-da7d-1181b9473381"
      },
      "execution_count": null,
      "outputs": [
        {
          "output_type": "stream",
          "name": "stdout",
          "text": [
            "ysae si nohtyp\n"
          ]
        }
      ]
    },
    {
      "cell_type": "code",
      "source": [
        "print(a[::-2])"
      ],
      "metadata": {
        "colab": {
          "base_uri": "https://localhost:8080/"
        },
        "id": "uN6Qaw6u0J7j",
        "outputId": "c3f56e16-39cd-4873-d590-f1db31177370"
      },
      "execution_count": null,
      "outputs": [
        {
          "output_type": "stream",
          "name": "stdout",
          "text": [
            "ya inhy\n"
          ]
        }
      ]
    },
    {
      "cell_type": "code",
      "source": [
        "a=int(input(\"enter a number\"))\n",
        "while a < 10 :\n",
        "  print(a)\n",
        "  a+=1"
      ],
      "metadata": {
        "colab": {
          "base_uri": "https://localhost:8080/"
        },
        "id": "xxkcx2n30OEQ",
        "outputId": "c21e2851-4e05-4e18-a70c-9763fbee781f"
      },
      "execution_count": null,
      "outputs": [
        {
          "output_type": "stream",
          "name": "stdout",
          "text": [
            "enter a number1\n",
            "1\n",
            "2\n",
            "3\n",
            "4\n",
            "5\n",
            "6\n",
            "7\n",
            "8\n",
            "9\n"
          ]
        }
      ]
    },
    {
      "cell_type": "code",
      "source": [
        "a=int(input(\"enter a number\"))\n",
        "i=0\n",
        "while i < 20 :\n",
        "  i+=1\n",
        "  n=a*i\n",
        "  print(n)"
      ],
      "metadata": {
        "colab": {
          "base_uri": "https://localhost:8080/"
        },
        "id": "pARY0KJF0RBH",
        "outputId": "afaebfe4-a370-4b79-def8-fc05bca7c61a"
      },
      "execution_count": null,
      "outputs": [
        {
          "output_type": "stream",
          "name": "stdout",
          "text": [
            "enter a number1\n",
            "1\n",
            "2\n",
            "3\n",
            "4\n",
            "5\n",
            "6\n",
            "7\n",
            "8\n",
            "9\n",
            "10\n",
            "11\n",
            "12\n",
            "13\n",
            "14\n",
            "15\n",
            "16\n",
            "17\n",
            "18\n",
            "19\n",
            "20\n"
          ]
        }
      ]
    },
    {
      "cell_type": "markdown",
      "source": [
        "Collections : List :-List is a collection of elements -heterogeneous-mutable(modifibale)"
      ],
      "metadata": {
        "id": "-v8ZNBgq1FIv"
      }
    },
    {
      "cell_type": "code",
      "source": [
        "a=[10,\"killer\",90.8,45]\n",
        "print(a)"
      ],
      "metadata": {
        "colab": {
          "base_uri": "https://localhost:8080/"
        },
        "id": "IVTti_Ec0YvU",
        "outputId": "bb12e2a3-3ace-4688-a136-1aca710da0a4"
      },
      "execution_count": null,
      "outputs": [
        {
          "output_type": "stream",
          "name": "stdout",
          "text": [
            "[10, 'killer', 90.8, 45]\n"
          ]
        }
      ]
    },
    {
      "cell_type": "code",
      "source": [
        "a.append(20)\n",
        "print(a)"
      ],
      "metadata": {
        "colab": {
          "base_uri": "https://localhost:8080/"
        },
        "id": "G6XfPWu81q9O",
        "outputId": "a87d6bce-f5e2-42b4-c117-4bafe6721c9f"
      },
      "execution_count": null,
      "outputs": [
        {
          "output_type": "stream",
          "name": "stdout",
          "text": [
            "[10, 'killer', 90.8, 45, 20]\n"
          ]
        }
      ]
    },
    {
      "cell_type": "code",
      "source": [
        "for i in a:\n",
        "  print(i)"
      ],
      "metadata": {
        "colab": {
          "base_uri": "https://localhost:8080/"
        },
        "id": "tdHRiIKN11SM",
        "outputId": "8d1d44bf-c66c-4535-a504-96c80dd217af"
      },
      "execution_count": null,
      "outputs": [
        {
          "output_type": "stream",
          "name": "stdout",
          "text": [
            "10\n",
            "killer\n",
            "90.8\n",
            "45\n",
            "20\n"
          ]
        }
      ]
    },
    {
      "cell_type": "code",
      "source": [
        "for i in a:\n",
        "  i=10\n",
        "  print(i)"
      ],
      "metadata": {
        "colab": {
          "base_uri": "https://localhost:8080/"
        },
        "id": "Zh_Epkkb133R",
        "outputId": "4e71963d-1f85-4b1a-81af-10e1df6fcb42"
      },
      "execution_count": null,
      "outputs": [
        {
          "output_type": "stream",
          "name": "stdout",
          "text": [
            "10\n",
            "10\n",
            "10\n",
            "10\n",
            "10\n"
          ]
        }
      ]
    },
    {
      "cell_type": "code",
      "source": [
        "#insert\n",
        "a.insert(3,\"hi\")\n",
        "print(a)"
      ],
      "metadata": {
        "colab": {
          "base_uri": "https://localhost:8080/"
        },
        "id": "IIWyImCG161i",
        "outputId": "0f3dfa34-73c1-4b96-b8a6-d625ce8e648d"
      },
      "execution_count": null,
      "outputs": [
        {
          "output_type": "stream",
          "name": "stdout",
          "text": [
            "[10, 'killer', 90.8, 'hi', 45, 20]\n"
          ]
        }
      ]
    },
    {
      "cell_type": "code",
      "source": [
        "#extend\n",
        "a=[10,20,30,40,50]\n",
        "b=[\"mam\",\"jwalitha\"]\n",
        "a.extend(b)\n",
        "print(a)"
      ],
      "metadata": {
        "colab": {
          "base_uri": "https://localhost:8080/"
        },
        "id": "IuvoQnFP1_Ir",
        "outputId": "e029d838-4321-406a-ac2a-55cd6a53bd5c"
      },
      "execution_count": null,
      "outputs": [
        {
          "output_type": "stream",
          "name": "stdout",
          "text": [
            "[10, 20, 30, 40, 50, 'mam', 'jwalitha']\n"
          ]
        }
      ]
    },
    {
      "cell_type": "code",
      "source": [
        "#pop\n",
        "a.pop(2)"
      ],
      "metadata": {
        "colab": {
          "base_uri": "https://localhost:8080/"
        },
        "id": "Y63-EShG2C9F",
        "outputId": "b2822f1f-9b95-46e0-fec5-8151eab9ca19"
      },
      "execution_count": null,
      "outputs": [
        {
          "output_type": "execute_result",
          "data": {
            "text/plain": [
              "30"
            ]
          },
          "metadata": {},
          "execution_count": 30
        }
      ]
    },
    {
      "cell_type": "code",
      "source": [
        "a.remove(\"jwalitha\")\n",
        "print(a)"
      ],
      "metadata": {
        "colab": {
          "base_uri": "https://localhost:8080/"
        },
        "id": "DF7anvaT2Gvp",
        "outputId": "701d66be-039d-4f47-f46a-c806f4b999bc"
      },
      "execution_count": null,
      "outputs": [
        {
          "output_type": "stream",
          "name": "stdout",
          "text": [
            "[10, 20, 40, 50, 'mam']\n"
          ]
        }
      ]
    },
    {
      "cell_type": "code",
      "source": [
        "a=[10,20,30]\n",
        "maxvalue=max(a)\n",
        "print(a)\n",
        "print(maxvalue)"
      ],
      "metadata": {
        "colab": {
          "base_uri": "https://localhost:8080/"
        },
        "id": "zcO0BA822O9o",
        "outputId": "81b95b32-b8e5-4b94-a6ea-71c8cdf91ff4"
      },
      "execution_count": null,
      "outputs": [
        {
          "output_type": "stream",
          "name": "stdout",
          "text": [
            "[10, 20, 30]\n",
            "30\n"
          ]
        }
      ]
    },
    {
      "cell_type": "code",
      "source": [
        "#max value of list\n",
        "a=[10,20,30,40,50,60]\n",
        "maxvalue=max(a)\n",
        "print(max(a))"
      ],
      "metadata": {
        "colab": {
          "base_uri": "https://localhost:8080/"
        },
        "id": "ovDOIa-12SD3",
        "outputId": "081bdea5-72e1-4fc9-d505-7e4cf9e88af9"
      },
      "execution_count": null,
      "outputs": [
        {
          "output_type": "stream",
          "name": "stdout",
          "text": [
            "60\n"
          ]
        }
      ]
    },
    {
      "cell_type": "markdown",
      "source": [
        "**List comprehension -Iterators-applies-conditions-output:list**"
      ],
      "metadata": {
        "id": "XruzoXWk2h31"
      }
    },
    {
      "cell_type": "code",
      "source": [
        "i1=[45,67,89,90]\n",
        "i2=[i**2 for i in i1]#output iterate condition\n",
        "print(i2)"
      ],
      "metadata": {
        "colab": {
          "base_uri": "https://localhost:8080/"
        },
        "id": "AovOWKPi2eXw",
        "outputId": "89f97632-5a72-46fa-8fc1-40ada3a05630"
      },
      "execution_count": null,
      "outputs": [
        {
          "output_type": "stream",
          "name": "stdout",
          "text": [
            "[2025, 4489, 7921, 8100]\n"
          ]
        }
      ]
    },
    {
      "cell_type": "code",
      "source": [
        "type(i2)"
      ],
      "metadata": {
        "colab": {
          "base_uri": "https://localhost:8080/"
        },
        "id": "LnbXoA4725Po",
        "outputId": "8a7c98f3-8605-47e2-a835-a3ed6093e7c9"
      },
      "execution_count": null,
      "outputs": [
        {
          "output_type": "execute_result",
          "data": {
            "text/plain": [
              "list"
            ]
          },
          "metadata": {},
          "execution_count": 37
        }
      ]
    },
    {
      "cell_type": "code",
      "source": [
        "i2=[i**2 for i in i1 if i>50]\n",
        "print(i2)"
      ],
      "metadata": {
        "colab": {
          "base_uri": "https://localhost:8080/"
        },
        "id": "vyb_mO3z29JI",
        "outputId": "15e7fa93-eeab-464b-a3f3-5511f983e615"
      },
      "execution_count": null,
      "outputs": [
        {
          "output_type": "stream",
          "name": "stdout",
          "text": [
            "[4489, 7921, 8100]\n"
          ]
        }
      ]
    },
    {
      "cell_type": "code",
      "source": [
        "# the salaries of 5 employees in a company is taken as a list.the tax is 10% if the salary is less than or = to 5000\n",
        "#or it is 15%\n",
        "#create a new list with tax amounts\n",
        "#[67000,45000,89000,34000,50000]\n",
        "#list name=[(body of if)   (condition)  else  (body of else)iterate"
      ],
      "metadata": {
        "id": "JCDanwmw3AiV"
      },
      "execution_count": null,
      "outputs": []
    },
    {
      "cell_type": "markdown",
      "source": [
        "The salaries of 5 employees in a company is taken as a list.the tax is 10% if the salary is less than or = to 5000 or it is 15% create a new list with tax amounts [67000,45000,89000,34000,50000] list name [(body of if)   (condition)  else  (body of else)iterate]** **bold text**"
      ],
      "metadata": {
        "id": "RZtwuQPZ3OUx"
      }
    },
    {
      "cell_type": "code",
      "source": [
        "salary=[67000,45000,89000,34000,50000]\n",
        "tax=[]\n",
        "for i in salary:\n",
        "  if i <= 50000:\n",
        "    t=i*0.1\n",
        "    tax.append(t)\n",
        "  else:\n",
        "    t=i*0.15\n",
        "    tax.append(t)\n",
        "print(tax)"
      ],
      "metadata": {
        "colab": {
          "base_uri": "https://localhost:8080/"
        },
        "id": "p-vAnT6t3HsX",
        "outputId": "a0588243-0860-4f65-c187-0142dc7529ec"
      },
      "execution_count": null,
      "outputs": [
        {
          "output_type": "stream",
          "name": "stdout",
          "text": [
            "[10050.0, 4500.0, 13350.0, 3400.0, 5000.0]\n"
          ]
        }
      ]
    },
    {
      "cell_type": "code",
      "source": [
        "salary=[67000,45000,89000,34000,50000]\n",
        "tax=[i*0.1 if i<=50000 else i*0.15 for i in salary]\n",
        "print(tax)"
      ],
      "metadata": {
        "colab": {
          "base_uri": "https://localhost:8080/"
        },
        "id": "467xmBj23mH8",
        "outputId": "90b4e38c-23e3-4e94-82b0-a6706bc593fa"
      },
      "execution_count": null,
      "outputs": [
        {
          "output_type": "stream",
          "name": "stdout",
          "text": [
            "[10050.0, 4500.0, 13350.0, 3400.0, 5000.0]\n"
          ]
        }
      ]
    },
    {
      "cell_type": "code",
      "source": [],
      "metadata": {
        "id": "rfipPaJd3qLD"
      },
      "execution_count": null,
      "outputs": []
    }
  ]
}