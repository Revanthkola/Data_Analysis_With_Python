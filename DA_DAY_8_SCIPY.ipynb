{
  "nbformat": 4,
  "nbformat_minor": 0,
  "metadata": {
    "colab": {
      "provenance": [],
      "authorship_tag": "ABX9TyNcx8/6A9UmVg6y9yWZFmaH",
      "include_colab_link": true
    },
    "kernelspec": {
      "name": "python3",
      "display_name": "Python 3"
    },
    "language_info": {
      "name": "python"
    }
  },
  "cells": [
    {
      "cell_type": "markdown",
      "metadata": {
        "id": "view-in-github",
        "colab_type": "text"
      },
      "source": [
        "<a href=\"https://colab.research.google.com/github/Revanthkola/Data_Analysis_With_Python/blob/main/DA_DAY_8_SCIPY.ipynb\" target=\"_parent\"><img src=\"https://colab.research.google.com/assets/colab-badge.svg\" alt=\"Open In Colab\"/></a>"
      ]
    },
    {
      "cell_type": "code",
      "execution_count": null,
      "metadata": {
        "colab": {
          "base_uri": "https://localhost:8080/"
        },
        "id": "6DM2YV5I74bQ",
        "outputId": "1aa68de9-05e9-4986-9e36-e061a5240c90"
      },
      "outputs": [
        {
          "output_type": "stream",
          "name": "stdout",
          "text": [
            "Requirement already satisfied: scipy in /usr/local/lib/python3.10/dist-packages (1.11.4)\n",
            "Requirement already satisfied: numpy<1.28.0,>=1.21.6 in /usr/local/lib/python3.10/dist-packages (from scipy) (1.25.2)\n"
          ]
        }
      ],
      "source": [
        "pip install scipy\n"
      ]
    },
    {
      "cell_type": "code",
      "source": [
        "import scipy\n",
        "#Example : integration using quad function\n",
        "from scipy import integrate\n",
        "result,error=integrate.quad(lambda x: x**3,0,1)\n",
        "print(\"Result :\",result)\n",
        "print(\"error : \",error)"
      ],
      "metadata": {
        "colab": {
          "base_uri": "https://localhost:8080/"
        },
        "id": "T1wI8yWa8pHU",
        "outputId": "eaac47e3-732a-4dfd-85b4-30f7654a6a60"
      },
      "execution_count": null,
      "outputs": [
        {
          "output_type": "stream",
          "name": "stdout",
          "text": [
            "Result : 0.25\n",
            "error :  2.7755575615628914e-15\n"
          ]
        }
      ]
    },
    {
      "cell_type": "code",
      "source": [
        "import numpy as np\n",
        "from scipy import optimize\n",
        "#optimization\n",
        "result_optimization=optimize.minimize_scalar(lambda x:x**2+3*x+5)\n",
        "print(\"Optimization Result : \",result_optimization)"
      ],
      "metadata": {
        "colab": {
          "base_uri": "https://localhost:8080/"
        },
        "id": "QyRYbh1W9hcT",
        "outputId": "127c26cb-31f7-49b7-b8f8-0a9546f0f6a9"
      },
      "execution_count": null,
      "outputs": [
        {
          "output_type": "stream",
          "name": "stdout",
          "text": [
            "Optimization Result :   message: \n",
            "          Optimization terminated successfully;\n",
            "          The returned value satisfies the termination criteria\n",
            "          (using xtol = 1.48e-08 )\n",
            " success: True\n",
            "     fun: 2.75\n",
            "       x: -1.5000000000000002\n",
            "     nit: 4\n",
            "    nfev: 8\n"
          ]
        }
      ]
    },
    {
      "cell_type": "code",
      "source": [
        "from re import S\n",
        "square = lambda x:x**2\n",
        "#using the lambda function\n",
        "result=square(S)\n",
        "print(\"Result : \",result)"
      ],
      "metadata": {
        "colab": {
          "base_uri": "https://localhost:8080/"
        },
        "id": "1rav3yWP-n7e",
        "outputId": "4e63b242-fd50-4c4a-b2a4-d38e81ac31d3"
      },
      "execution_count": null,
      "outputs": [
        {
          "output_type": "stream",
          "name": "stdout",
          "text": [
            "Result :  256\n"
          ]
        }
      ]
    },
    {
      "cell_type": "code",
      "source": [
        "add_numbers = lambda x,y:x+y\n",
        "#using the lambda function\n",
        "result = add_numbers(3,2)\n",
        "print(\"Result : \",result)"
      ],
      "metadata": {
        "colab": {
          "base_uri": "https://localhost:8080/"
        },
        "id": "Z8K9dlex_XKC",
        "outputId": "dae2cc5a-5f06-4818-85f4-8ac5b3455c7b"
      },
      "execution_count": null,
      "outputs": [
        {
          "output_type": "stream",
          "name": "stdout",
          "text": [
            "Result :  5\n"
          ]
        }
      ]
    },
    {
      "cell_type": "code",
      "source": [
        "import numpy as np\n",
        "from scipy import interpolate\n",
        "# Interpolation\n",
        "x_data=np.array([0,1,2,3,4])\n",
        "y_data=np.array([0,2,1,3,5])\n",
        "interp_func=interpolate.interp1d(x_data,y_data,kind=\"linear\")\n",
        "interp_result=interp_func(2.5)\n",
        "print(\"Interpolation Result : \",interp_result)"
      ],
      "metadata": {
        "colab": {
          "base_uri": "https://localhost:8080/"
        },
        "id": "_lWL7pRP_tJU",
        "outputId": "5df7e5a6-c6aa-425a-9199-4f5b4a3745b9"
      },
      "execution_count": null,
      "outputs": [
        {
          "output_type": "stream",
          "name": "stdout",
          "text": [
            "Interpolation Result :  2.0\n"
          ]
        }
      ]
    },
    {
      "cell_type": "markdown",
      "source": [
        "formula\n",
        "y="
      ],
      "metadata": {
        "id": "VR46RAO1C-04"
      }
    },
    {
      "cell_type": "code",
      "source": [
        "import numpy as np\n",
        "import pandas as pd\n",
        "import scipy.stats as stats\n",
        "import statsmodels.api as sm"
      ],
      "metadata": {
        "id": "YFA_NQYGAz2C"
      },
      "execution_count": null,
      "outputs": []
    },
    {
      "cell_type": "code",
      "source": [
        "#generate sample data\n",
        "np.random.seed(0)\n",
        "data =pd.DataFrame({\n",
        "    'Treatment': np.random.choice(['A','B','C'],size=100),\n",
        "    'score': np.random.normal(loc=10,scale=2,size=100) #loc =mean,scale=standard deviation\n",
        "})\n",
        "print(data)"
      ],
      "metadata": {
        "colab": {
          "base_uri": "https://localhost:8080/"
        },
        "id": "nv0xFTwNFk38",
        "outputId": "6f8bb79a-d326-4b1a-9ed3-c58cf5af84d2"
      },
      "execution_count": null,
      "outputs": [
        {
          "output_type": "stream",
          "name": "stdout",
          "text": [
            "   Treatment      score\n",
            "0          A   8.626821\n",
            "1          B  10.029747\n",
            "2          A   9.248668\n",
            "3          B   9.923553\n",
            "4          B  10.735949\n",
            "..       ...        ...\n",
            "95         A   9.933528\n",
            "96         C  10.131283\n",
            "97         A  10.531571\n",
            "98         B  12.303684\n",
            "99         C  10.276086\n",
            "\n",
            "[100 rows x 2 columns]\n"
          ]
        }
      ]
    },
    {
      "cell_type": "code",
      "source": [
        "#calculate mean score for each treatment group\n",
        "mean_score_per_group =data.groupby('Treatment')['score'].mean()\n",
        "print(mean_score_per_group)"
      ],
      "metadata": {
        "colab": {
          "base_uri": "https://localhost:8080/"
        },
        "id": "WWjb-qvyGnYA",
        "outputId": "380a529e-cef5-4fc1-84a1-42e4d5a93626"
      },
      "execution_count": null,
      "outputs": [
        {
          "output_type": "stream",
          "name": "stdout",
          "text": [
            "Treatment\n",
            "A     9.611241\n",
            "B    10.099304\n",
            "C    10.010667\n",
            "Name: score, dtype: float64\n"
          ]
        }
      ]
    },
    {
      "cell_type": "code",
      "source": [
        "from random import choices\n",
        "#generate random treatment selections\n",
        "choices=['A','B','C']\n",
        "size=100\n",
        "treatment_column=np.random.choice(choices,size=size)\n",
        "print(treatment_column)"
      ],
      "metadata": {
        "colab": {
          "base_uri": "https://localhost:8080/"
        },
        "id": "s-Dt6keFIc6C",
        "outputId": "730a6f85-5de6-4131-9387-022d52364ca9"
      },
      "execution_count": null,
      "outputs": [
        {
          "output_type": "stream",
          "name": "stdout",
          "text": [
            "['B' 'B' 'C' 'A' 'B' 'A' 'B' 'B' 'C' 'A' 'C' 'A' 'C' 'A' 'C' 'A' 'A' 'A'\n",
            " 'A' 'B' 'C' 'A' 'A' 'B' 'C' 'B' 'A' 'A' 'A' 'A' 'A' 'B' 'A' 'C' 'C' 'C'\n",
            " 'A' 'A' 'C' 'A' 'C' 'C' 'A' 'B' 'B' 'B' 'A' 'A' 'B' 'A' 'A' 'B' 'C' 'C'\n",
            " 'A' 'C' 'B' 'B' 'C' 'B' 'C' 'C' 'B' 'C' 'A' 'A' 'C' 'B' 'B' 'C' 'C' 'B'\n",
            " 'A' 'C' 'A' 'C' 'A' 'C' 'B' 'C' 'B' 'A' 'B' 'B' 'C' 'C' 'A' 'B' 'A' 'A'\n",
            " 'A' 'C' 'A' 'B' 'A' 'C' 'B' 'A' 'B' 'C']\n"
          ]
        }
      ]
    },
    {
      "cell_type": "code",
      "source": [
        "#generate random numbers following a normal distribution\n",
        "mean=10\n",
        "std=2\n",
        "size=100\n",
        "score_values=mean+std*np.random.randn(size)\n",
        "print(score_values)"
      ],
      "metadata": {
        "colab": {
          "base_uri": "https://localhost:8080/"
        },
        "id": "VPkMkrEhJlUr",
        "outputId": "2e8d2ca8-4e6a-4816-960e-fac7165a1d95"
      },
      "execution_count": null,
      "outputs": [
        {
          "output_type": "stream",
          "name": "stdout",
          "text": [
            "[11.04397546 12.39451973  9.23502757 11.38332384 10.70777002 12.09517067\n",
            "  9.15220753  2.97046376  7.31368654 12.85101225 10.45716402  9.48467248\n",
            " 10.10074143  7.23957825  9.47665587  9.64124061  8.61445885 12.27565373\n",
            "  9.6616855   8.47217266  9.00385379  9.27421777 10.52792062  8.74071618\n",
            "  9.05548319  6.97327793 12.21524936 10.3524775   8.11929292 11.85918866\n",
            "  7.87441016  8.22718746 13.84269391  9.08043895  7.82193113 11.96823459\n",
            "  7.68158735  9.12692581 12.01848906 11.42677914  8.54388456 11.67903292\n",
            " 12.47804196  6.43039223  8.40762832  7.19891747  9.63129885  7.21761377\n",
            " 10.07251948  8.37118888 11.39474565  6.52514152 10.2317114  10.73130289\n",
            "  9.85215307  9.01296486 16.20306117 11.71750831  7.69044895 11.88366868\n",
            "  9.43572972  8.04869067 10.19637338 11.81097991 12.03748287  9.77020229\n",
            " 13.48607744  9.35624162 11.65914219  9.58536401 12.23599721 12.12849937\n",
            " 12.30265967  8.45508459  7.41273144 11.35405362 10.8481104   9.02864765\n",
            "  9.89660553 11.13411274 12.13566715 10.54319148 11.23860353  9.88274801\n",
            " 12.5131428  10.59349439 10.79717145  7.89365124  8.72104747  9.70294624\n",
            "  6.85083571  9.00862361  9.76485041 10.74624032  9.22794246  7.53881377\n",
            "  6.08345678  8.96407463 11.15959759  7.29253432]\n"
          ]
        }
      ]
    },
    {
      "cell_type": "code",
      "source": [
        "#Hypothesis Testing (t-test)\n",
        "group_A=data[data['Treatment']=='A']['score']\n",
        "group_B=data[data['Treatment']=='B']['score']\n",
        "t_stat,p_value=stats.ttest_ind(group_A,group_B)\n",
        "print(\"t-statistic : \",t_stat)\n",
        "print(\"p-value : \",p_value)"
      ],
      "metadata": {
        "colab": {
          "base_uri": "https://localhost:8080/"
        },
        "id": "OZRJE5O8KJWW",
        "outputId": "ee38b230-8cad-4981-a382-711db5162f6f"
      },
      "execution_count": null,
      "outputs": [
        {
          "output_type": "stream",
          "name": "stdout",
          "text": [
            "t-statistic :  -1.0341676575352792\n",
            "p-value :  0.3045674995802033\n"
          ]
        }
      ]
    },
    {
      "cell_type": "code",
      "source": [
        "#generate sample data\n",
        "np.random.seed(0)\n",
        "data =pd.DataFrame({\n",
        "    'T': np.random.choice(['A','B','C'],size=10),\n",
        "    'S': np.random.normal(loc=10,scale=2,size=10) #loc =mean,scale=standard deviation\n",
        "})\n",
        "print(data)"
      ],
      "metadata": {
        "colab": {
          "base_uri": "https://localhost:8080/"
        },
        "id": "IYOT0j7-R7m2",
        "outputId": "a5f4863b-b848-464f-f8a9-699467a6d415"
      },
      "execution_count": null,
      "outputs": [
        {
          "output_type": "stream",
          "name": "stdout",
          "text": [
            "   T          S\n",
            "0  A   9.653861\n",
            "1  B   6.476697\n",
            "2  A   9.824654\n",
            "3  B  12.733759\n",
            "4  B  12.250628\n",
            "5  C   9.282009\n",
            "6  A  12.441216\n",
            "7  C   7.321009\n",
            "8  A  10.856747\n",
            "9  A   9.753074\n"
          ]
        }
      ]
    },
    {
      "cell_type": "code",
      "source": [
        "from random import choices\n",
        "#generate random treatment selections\n",
        "choices=['A','B','C']\n",
        "size=100\n",
        "treatment_column=np.random.choice(choices,size=size)\n",
        "print(treatment_column)"
      ],
      "metadata": {
        "colab": {
          "base_uri": "https://localhost:8080/"
        },
        "id": "R3uL-B8BMN5-",
        "outputId": "ba44b78c-6f7c-431d-d6d4-b4c84a687475"
      },
      "execution_count": null,
      "outputs": [
        {
          "output_type": "stream",
          "name": "stdout",
          "text": [
            "['A' 'C' 'A' 'B' 'B' 'C' 'A' 'B' 'B' 'B' 'A' 'C' 'A' 'C' 'C' 'A' 'C' 'A'\n",
            " 'A' 'A' 'B' 'B' 'C' 'A' 'A' 'B' 'A' 'B' 'C' 'C' 'A' 'B' 'B' 'B' 'B' 'C'\n",
            " 'C' 'C' 'A' 'C' 'B' 'A' 'B' 'C' 'A' 'A' 'C' 'A' 'A' 'A' 'A' 'A' 'A' 'C'\n",
            " 'A' 'C' 'B' 'B' 'B' 'A' 'B' 'B' 'B' 'A' 'B' 'C' 'A' 'B' 'C' 'A' 'C' 'A'\n",
            " 'B' 'C' 'C' 'B' 'A' 'B' 'B' 'A' 'C' 'C' 'C' 'C' 'B' 'C' 'C' 'C' 'C' 'C'\n",
            " 'A' 'B' 'C' 'C' 'B' 'C' 'B' 'A' 'C' 'C']\n"
          ]
        }
      ]
    },
    {
      "cell_type": "code",
      "source": [
        "#calculate mean score for each treatment group\n",
        "A=data.groupby('T').mean()\n",
        "print(A)"
      ],
      "metadata": {
        "colab": {
          "base_uri": "https://localhost:8080/"
        },
        "id": "yuD02KCyRYjZ",
        "outputId": "b5d5b2d1-4ebe-437b-ef94-5adac153758d"
      },
      "execution_count": null,
      "outputs": [
        {
          "output_type": "stream",
          "name": "stdout",
          "text": [
            "           S\n",
            "T           \n",
            "A  10.505910\n",
            "B  10.487028\n",
            "C   8.301509\n"
          ]
        }
      ]
    },
    {
      "cell_type": "code",
      "source": [
        "#calculate mean score for each treatment group\n",
        "B=data.groupby('S').mean()\n",
        "print(B)"
      ],
      "metadata": {
        "colab": {
          "base_uri": "https://localhost:8080/"
        },
        "id": "Js3z-e57RwTt",
        "outputId": "17a22671-4fe4-45d6-dd5f-ace5d9dbc727"
      },
      "execution_count": null,
      "outputs": [
        {
          "output_type": "stream",
          "name": "stdout",
          "text": [
            "Empty DataFrame\n",
            "Columns: []\n",
            "Index: [6.476696664328973, 7.321008900570613, 9.282008896861251, 9.65386080737019, 9.753073701771273, 9.824653865520599, 10.856746739297279, 12.2506282075501, 12.441216194092277, 12.73375873385355]\n"
          ]
        },
        {
          "output_type": "stream",
          "name": "stderr",
          "text": [
            "<ipython-input-108-565aacf87e55>:2: FutureWarning: The default value of numeric_only in DataFrameGroupBy.mean is deprecated. In a future version, numeric_only will default to False. Either specify numeric_only or select only columns which should be valid for the function.\n",
            "  B=data.groupby('S').mean()\n"
          ]
        }
      ]
    },
    {
      "cell_type": "code",
      "source": [
        "#Hypothesis Testing (t-test)\n",
        "group_A=data[data['T']=='A']['S']\n",
        "group_B=data[data['T']=='B']['S']\n",
        "t_stat,p_value=stats.ttest_ind(group_A,group_B)\n",
        "print(\"t-statistic : \",t_stat)\n",
        "print(\"p-value : \",p_value)"
      ],
      "metadata": {
        "colab": {
          "base_uri": "https://localhost:8080/"
        },
        "id": "218_ZtjeSw90",
        "outputId": "026476b4-5e86-4f4f-ab62-486e5f2ab325"
      },
      "execution_count": null,
      "outputs": [
        {
          "output_type": "stream",
          "name": "stdout",
          "text": [
            "t-statistic :  0.011588929432828264\n",
            "p-value :  0.9911293054731878\n"
          ]
        }
      ]
    },
    {
      "cell_type": "code",
      "source": [
        "#ANOVA (one-way ANOVA)\n",
        "f_stat,p_value = stats.f_oneway(data[data['T']=='A']['S'],\n",
        "                                data[data['T']=='B']['S'],\n",
        "                                data[data['T']=='C']['S'])\n",
        "print(\"F-statistic:\",f_stat)\n",
        "print(\"p-value\",p_value)"
      ],
      "metadata": {
        "colab": {
          "base_uri": "https://localhost:8080/"
        },
        "id": "AZeQhv_uTP9o",
        "outputId": "dd05e612-da86-4896-d20e-f7d698fdaef0"
      },
      "execution_count": null,
      "outputs": [
        {
          "output_type": "stream",
          "name": "stdout",
          "text": [
            "F-statistic: 0.8506209980406025\n",
            "p-value 0.4669912836479926\n"
          ]
        }
      ]
    },
    {
      "cell_type": "code",
      "source": [
        "x=sm.add_constant(data['T'].replace({'A':0,'B':1,'C':2}))\n",
        "model=sm.OLS(data['S'],x)\n",
        "results=model.fit()\n",
        "print(results.summary())"
      ],
      "metadata": {
        "colab": {
          "base_uri": "https://localhost:8080/"
        },
        "id": "0mflHii-_UKp",
        "outputId": "c5193ae5-ba3b-44c9-de43-3849f3eda95a"
      },
      "execution_count": null,
      "outputs": [
        {
          "output_type": "stream",
          "name": "stdout",
          "text": [
            "                            OLS Regression Results                            \n",
            "==============================================================================\n",
            "Dep. Variable:                      S   R-squared:                       0.137\n",
            "Model:                            OLS   Adj. R-squared:                  0.029\n",
            "Method:                 Least Squares   F-statistic:                     1.271\n",
            "Date:                Tue, 20 Feb 2024   Prob (F-statistic):              0.292\n",
            "Time:                        10:13:50   Log-Likelihood:                -20.323\n",
            "No. Observations:                  10   AIC:                             44.65\n",
            "Df Residuals:                       8   BIC:                             45.25\n",
            "Df Model:                           1                                         \n",
            "Covariance Type:            nonrobust                                         \n",
            "==============================================================================\n",
            "                 coef    std err          t      P>|t|      [0.025      0.975]\n",
            "------------------------------------------------------------------------------\n",
            "const         10.7190      0.877     12.227      0.000       8.697      12.741\n",
            "T             -0.9424      0.836     -1.127      0.292      -2.870       0.985\n",
            "==============================================================================\n",
            "Omnibus:                        0.090   Durbin-Watson:                   1.349\n",
            "Prob(Omnibus):                  0.956   Jarque-Bera (JB):                0.311\n",
            "Skew:                           0.063   Prob(JB):                        0.856\n",
            "Kurtosis:                       2.145   Cond. No.                         2.24\n",
            "==============================================================================\n",
            "\n",
            "Notes:\n",
            "[1] Standard Errors assume that the covariance matrix of the errors is correctly specified.\n"
          ]
        },
        {
          "output_type": "stream",
          "name": "stderr",
          "text": [
            "/usr/local/lib/python3.10/dist-packages/scipy/stats/_stats_py.py:1806: UserWarning: kurtosistest only valid for n>=20 ... continuing anyway, n=10\n",
            "  warnings.warn(\"kurtosistest only valid for n>=20 ... continuing \"\n"
          ]
        }
      ]
    },
    {
      "cell_type": "code",
      "source": [
        "import numpy as np\n",
        "import statsmodels.api as sm\n",
        "\n",
        "# Sample data\n",
        "X = np.array([1, 2, 3, 4, 5])  # Independent variable\n",
        "y = np.array([2, 4, 5, 4, 5])  # Dependent variable\n",
        "\n",
        "# Add a constant to the independent variable (for intercept estimation)\n",
        "X = sm.add_constant(X)\n",
        "\n",
        "# Create OLS model\n",
        "model = sm.OLS(y, X)\n",
        "\n",
        "# Fit the model\n",
        "results = model.fit()\n",
        "\n",
        "# Print summary of results\n",
        "print(results.summary())"
      ],
      "metadata": {
        "id": "JLrvBUpGVcQe",
        "colab": {
          "base_uri": "https://localhost:8080/"
        },
        "outputId": "61abfe38-0552-4dae-bea9-804468777a5b"
      },
      "execution_count": null,
      "outputs": [
        {
          "output_type": "stream",
          "name": "stdout",
          "text": [
            "                            OLS Regression Results                            \n",
            "==============================================================================\n",
            "Dep. Variable:                      y   R-squared:                       0.600\n",
            "Model:                            OLS   Adj. R-squared:                  0.467\n",
            "Method:                 Least Squares   F-statistic:                     4.500\n",
            "Date:                Tue, 20 Feb 2024   Prob (F-statistic):              0.124\n",
            "Time:                        09:53:30   Log-Likelihood:                -5.2598\n",
            "No. Observations:                   5   AIC:                             14.52\n",
            "Df Residuals:                       3   BIC:                             13.74\n",
            "Df Model:                           1                                         \n",
            "Covariance Type:            nonrobust                                         \n",
            "==============================================================================\n",
            "                 coef    std err          t      P>|t|      [0.025      0.975]\n",
            "------------------------------------------------------------------------------\n",
            "const          2.2000      0.938      2.345      0.101      -0.785       5.185\n",
            "x1             0.6000      0.283      2.121      0.124      -0.300       1.500\n",
            "==============================================================================\n",
            "Omnibus:                          nan   Durbin-Watson:                   2.017\n",
            "Prob(Omnibus):                    nan   Jarque-Bera (JB):                0.570\n",
            "Skew:                           0.289   Prob(JB):                        0.752\n",
            "Kurtosis:                       1.450   Cond. No.                         8.37\n",
            "==============================================================================\n",
            "\n",
            "Notes:\n",
            "[1] Standard Errors assume that the covariance matrix of the errors is correctly specified.\n"
          ]
        },
        {
          "output_type": "stream",
          "name": "stderr",
          "text": [
            "/usr/local/lib/python3.10/dist-packages/statsmodels/stats/stattools.py:74: ValueWarning: omni_normtest is not valid with less than 8 observations; 5 samples were given.\n",
            "  warn(\"omni_normtest is not valid with less than 8 observations; %i \"\n"
          ]
        }
      ]
    },
    {
      "cell_type": "code",
      "source": [],
      "metadata": {
        "id": "NZ0UuGq270Lo"
      },
      "execution_count": null,
      "outputs": []
    }
  ]
}