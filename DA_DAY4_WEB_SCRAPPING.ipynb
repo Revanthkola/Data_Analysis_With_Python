{
  "nbformat": 4,
  "nbformat_minor": 0,
  "metadata": {
    "colab": {
      "provenance": [],
      "authorship_tag": "ABX9TyNzago94MQ3GaW/H6+MKPbJ",
      "include_colab_link": true
    },
    "kernelspec": {
      "name": "python3",
      "display_name": "Python 3"
    },
    "language_info": {
      "name": "python"
    }
  },
  "cells": [
    {
      "cell_type": "markdown",
      "metadata": {
        "id": "view-in-github",
        "colab_type": "text"
      },
      "source": [
        "<a href=\"https://colab.research.google.com/github/Revanthkola/Data_Analysis_With_Python/blob/main/DA_DAY4_WEB_SCRAPPING.ipynb\" target=\"_parent\"><img src=\"https://colab.research.google.com/assets/colab-badge.svg\" alt=\"Open In Colab\"/></a>"
      ]
    },
    {
      "cell_type": "markdown",
      "source": [
        "#Web scrapping:\n",
        "Project : 1\n",
        "extracting html code of any website\n",
        "program flow\n",
        "- 1.import libraries\n",
        "- 2.save the url\n",
        "- 3.using reques.get(),access the web page\n",
        "- 4.using BeautifulSoup,access the html code\n"
      ],
      "metadata": {
        "id": "kl81DqmmGW62"
      }
    },
    {
      "cell_type": "code",
      "source": [],
      "metadata": {
        "id": "cYBdyrTzLV8m"
      },
      "execution_count": null,
      "outputs": []
    },
    {
      "cell_type": "code",
      "source": [
        "#importing libraries\n",
        "from bs4 import BeautifulSoup\n",
        "import requests"
      ],
      "metadata": {
        "id": "Sb-IE6CPG3cc"
      },
      "execution_count": null,
      "outputs": []
    },
    {
      "cell_type": "code",
      "source": [
        "url=\"https://www.w3schools.com/\" #save the url"
      ],
      "metadata": {
        "id": "zXWwlQduHsso"
      },
      "execution_count": null,
      "outputs": []
    },
    {
      "cell_type": "code",
      "source": [
        "req=requests.get(url) #access the web page"
      ],
      "metadata": {
        "id": "cHG2DmcoIF2K"
      },
      "execution_count": null,
      "outputs": []
    },
    {
      "cell_type": "code",
      "source": [
        "a=BeautifulSoup(req.text,'html') # access the html code\n",
        "print(a)"
      ],
      "metadata": {
        "id": "v5K_BAQcInC1"
      },
      "execution_count": null,
      "outputs": []
    }
  ]
}